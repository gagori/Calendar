{
  "nbformat": 4,
  "nbformat_minor": 0,
  "metadata": {
    "colab": {
      "name": "centernet_liceseplate_training.ipynb",
      "provenance": [],
      "collapsed_sections": [],
      "machine_shape": "hm",
      "include_colab_link": true
    },
    "kernelspec": {
      "name": "python3",
      "display_name": "Python 3"
    },
    "accelerator": "GPU"
  },
  "cells": [
    {
      "cell_type": "markdown",
      "metadata": {
        "id": "view-in-github",
        "colab_type": "text"
      },
      "source": [
        "<a href=\"https://colab.research.google.com/github/gagori/Calendar/blob/master/centernet_liceseplate_training.ipynb\" target=\"_parent\"><img src=\"https://colab.research.google.com/assets/colab-badge.svg\" alt=\"Open In Colab\"/></a>"
      ]
    },
    {
      "cell_type": "code",
      "metadata": {
        "colab": {
          "base_uri": "https://localhost:8080/"
        },
        "id": "Lv6cI1hNPv8x",
        "outputId": "06f21ade-b0a7-4696-8a6f-d937e07f9cca"
      },
      "source": [
        "from google.colab import drive\n",
        "drive.mount('/content/drive')"
      ],
      "execution_count": null,
      "outputs": [
        {
          "output_type": "stream",
          "name": "stdout",
          "text": [
            "Mounted at /content/drive\n"
          ]
        }
      ]
    },
    {
      "cell_type": "code",
      "metadata": {
        "colab": {
          "base_uri": "https://localhost:8080/"
        },
        "id": "W3FeS-LJ_ths",
        "outputId": "b7ec2af3-0229-4148-8268-bf14d12309fb"
      },
      "source": [
        "!git clone https://github.com/tensorflow/models"
      ],
      "execution_count": null,
      "outputs": [
        {
          "output_type": "stream",
          "name": "stdout",
          "text": [
            "Cloning into 'models'...\n",
            "remote: Enumerating objects: 66192, done.\u001b[K\n",
            "remote: Counting objects: 100% (171/171), done.\u001b[K\n",
            "remote: Compressing objects: 100% (62/62), done.\u001b[K\n",
            "remote: Total 66192 (delta 132), reused 144 (delta 109), pack-reused 66021\u001b[K\n",
            "Receiving objects: 100% (66192/66192), 575.82 MiB | 17.90 MiB/s, done.\n",
            "Resolving deltas: 100% (46369/46369), done.\n",
            "Checking out files: 100% (2809/2809), done.\n"
          ]
        }
      ]
    },
    {
      "cell_type": "code",
      "metadata": {
        "colab": {
          "base_uri": "https://localhost:8080/"
        },
        "id": "hXuu1OajFYcZ",
        "outputId": "867e6f73-a2df-49bb-fa5f-bb927d659dad"
      },
      "source": [
        "import os\n",
        "os.chdir('/content/drive/MyDrive/models')\n",
        "!ls"
      ],
      "execution_count": null,
      "outputs": [
        {
          "output_type": "stream",
          "name": "stdout",
          "text": [
            "AUTHORS     CONTRIBUTING.md\t\t  LICENSE   README.md\n",
            "CODEOWNERS  create_carplate_tf_record.py  official  research\n",
            "community   ISSUES.md\t\t\t  orbit\n"
          ]
        }
      ]
    },
    {
      "cell_type": "code",
      "metadata": {
        "id": "SQd3KWK7rDrC"
      },
      "source": [
        "# git reset << 최신 식으로 항상 업데이트."
      ],
      "execution_count": null,
      "outputs": []
    },
    {
      "cell_type": "code",
      "metadata": {
        "colab": {
          "base_uri": "https://localhost:8080/"
        },
        "id": "3tR123GtFcqy",
        "outputId": "46e0febd-6185-4092-f1be-794548b37bae"
      },
      "source": [
        "!git reset --hard d7ce106b8ea449cc629569ca43a95e55a18807fa"
      ],
      "execution_count": null,
      "outputs": [
        {
          "output_type": "stream",
          "name": "stdout",
          "text": [
            "Checking out files: 100% (2259/2259), done.\n",
            "HEAD is now at d7ce106b8 Minor comment updates in Transformer.\n"
          ]
        }
      ]
    },
    {
      "cell_type": "code",
      "metadata": {
        "colab": {
          "base_uri": "https://localhost:8080/"
        },
        "id": "IXuhOncpFf90",
        "outputId": "4a3678f5-3fb3-4407-f58f-9946a99dd423"
      },
      "source": [
        "%cd .."
      ],
      "execution_count": null,
      "outputs": [
        {
          "output_type": "stream",
          "name": "stdout",
          "text": [
            "/content/drive/My Drive\n"
          ]
        }
      ]
    },
    {
      "cell_type": "code",
      "metadata": {
        "colab": {
          "base_uri": "https://localhost:8080/"
        },
        "id": "Hm_mdOYe_zzy",
        "outputId": "c6f2a3e0-d5ad-448e-f51b-301da66c9d5a"
      },
      "source": [
        "%cd models/research"
      ],
      "execution_count": null,
      "outputs": [
        {
          "output_type": "stream",
          "name": "stdout",
          "text": [
            "/content/drive/My Drive/models/research\n"
          ]
        }
      ]
    },
    {
      "cell_type": "code",
      "metadata": {
        "colab": {
          "base_uri": "https://localhost:8080/"
        },
        "id": "AG_cdU_yAJ4N",
        "outputId": "d38b80b6-eeff-4ced-cc09-f4b54991479e"
      },
      "source": [
        "!pwd"
      ],
      "execution_count": null,
      "outputs": [
        {
          "output_type": "stream",
          "name": "stdout",
          "text": [
            "/content/drive/My Drive/models/research\n"
          ]
        }
      ]
    },
    {
      "cell_type": "code",
      "metadata": {
        "id": "U2sF0hYH__0j"
      },
      "source": [
        "# Compile protos.\n",
        "!protoc object_detection/protos/*.proto --python_out=."
      ],
      "execution_count": null,
      "outputs": []
    },
    {
      "cell_type": "code",
      "metadata": {
        "id": "9oYp40AtADvc"
      },
      "source": [
        "# Install TensorFlow Object Detection API.\n",
        "!cp object_detection/packages/tf2/setup.py ."
      ],
      "execution_count": null,
      "outputs": []
    },
    {
      "cell_type": "code",
      "metadata": {
        "id": "_x5zy3tYASFM"
      },
      "source": [
        "!python -m pip install --upgrade pip"
      ],
      "execution_count": null,
      "outputs": []
    },
    {
      "cell_type": "code",
      "metadata": {
        "id": "nJSsRhdoAPEr",
        "colab": {
          "base_uri": "https://localhost:8080/"
        },
        "outputId": "8a5ffd84-2f0c-4813-f6c3-c4b0a1b1a4eb"
      },
      "source": [
        "!python -m pip install --use-feature=2020-resolver ."
      ],
      "execution_count": null,
      "outputs": [
        {
          "output_type": "stream",
          "name": "stdout",
          "text": [
            "\u001b[33mWARNING: --use-feature=2020-resolver no longer has any effect, since it is now the default dependency resolver in pip. This will become an error in pip 21.0.\u001b[0m\n",
            "Processing /content/drive/My Drive/models/research\n",
            "  Preparing metadata (setup.py) ... \u001b[?25l\u001b[?25hdone\n",
            "Collecting avro-python3\n",
            "  Downloading avro-python3-1.10.2.tar.gz (38 kB)\n",
            "  Preparing metadata (setup.py) ... \u001b[?25l\u001b[?25hdone\n",
            "Collecting apache-beam\n",
            "  Downloading apache_beam-2.33.0-cp37-cp37m-manylinux2010_x86_64.whl (9.8 MB)\n",
            "     |████████████████████████████████| 9.8 MB 14.4 MB/s            \n",
            "\u001b[?25hRequirement already satisfied: pillow in /usr/local/lib/python3.7/dist-packages (from object-detection==0.1) (7.1.2)\n",
            "Requirement already satisfied: lxml in /usr/local/lib/python3.7/dist-packages (from object-detection==0.1) (4.2.6)\n",
            "Requirement already satisfied: matplotlib in /usr/local/lib/python3.7/dist-packages (from object-detection==0.1) (3.2.2)\n",
            "Requirement already satisfied: Cython in /usr/local/lib/python3.7/dist-packages (from object-detection==0.1) (0.29.24)\n",
            "Requirement already satisfied: contextlib2 in /usr/local/lib/python3.7/dist-packages (from object-detection==0.1) (0.5.5)\n",
            "Collecting tf-slim\n",
            "  Downloading tf_slim-1.1.0-py2.py3-none-any.whl (352 kB)\n",
            "     |████████████████████████████████| 352 kB 47.9 MB/s            \n",
            "\u001b[?25hRequirement already satisfied: six in /usr/local/lib/python3.7/dist-packages (from object-detection==0.1) (1.15.0)\n",
            "Requirement already satisfied: pycocotools in /usr/local/lib/python3.7/dist-packages (from object-detection==0.1) (2.0.2)\n",
            "Collecting lvis\n",
            "  Downloading lvis-0.5.3-py3-none-any.whl (14 kB)\n",
            "Requirement already satisfied: scipy in /usr/local/lib/python3.7/dist-packages (from object-detection==0.1) (1.4.1)\n",
            "Requirement already satisfied: pandas in /usr/local/lib/python3.7/dist-packages (from object-detection==0.1) (1.1.5)\n",
            "Collecting tf-models-official\n",
            "  Downloading tf_models_official-2.6.0-py2.py3-none-any.whl (1.8 MB)\n",
            "     |████████████████████████████████| 1.8 MB 44.2 MB/s            \n",
            "\u001b[?25hRequirement already satisfied: pyarrow<5.0.0,>=0.15.1 in /usr/local/lib/python3.7/dist-packages (from apache-beam->object-detection==0.1) (3.0.0)\n",
            "Collecting avro-python3\n",
            "  Downloading avro-python3-1.9.2.1.tar.gz (37 kB)\n",
            "  Preparing metadata (setup.py) ... \u001b[?25l\u001b[?25hdone\n",
            "Requirement already satisfied: crcmod<2.0,>=1.7 in /usr/local/lib/python3.7/dist-packages (from apache-beam->object-detection==0.1) (1.7)\n",
            "Requirement already satisfied: numpy<1.21.0,>=1.14.3 in /usr/local/lib/python3.7/dist-packages (from apache-beam->object-detection==0.1) (1.19.5)\n",
            "Collecting fastavro<2,>=0.21.4\n",
            "  Downloading fastavro-1.4.7-cp37-cp37m-manylinux_2_17_x86_64.manylinux2014_x86_64.whl (2.3 MB)\n",
            "     |████████████████████████████████| 2.3 MB 45.0 MB/s            \n",
            "\u001b[?25hRequirement already satisfied: pymongo<4.0.0,>=3.8.0 in /usr/local/lib/python3.7/dist-packages (from apache-beam->object-detection==0.1) (3.12.0)\n",
            "Requirement already satisfied: python-dateutil<3,>=2.8.0 in /usr/local/lib/python3.7/dist-packages (from apache-beam->object-detection==0.1) (2.8.2)\n",
            "Requirement already satisfied: pytz>=2018.3 in /usr/local/lib/python3.7/dist-packages (from apache-beam->object-detection==0.1) (2018.9)\n",
            "Requirement already satisfied: grpcio<2,>=1.29.0 in /usr/local/lib/python3.7/dist-packages (from apache-beam->object-detection==0.1) (1.41.0)\n",
            "Collecting hdfs<3.0.0,>=2.1.0\n",
            "  Downloading hdfs-2.6.0-py3-none-any.whl (33 kB)\n",
            "Collecting future<1.0.0,>=0.18.2\n",
            "  Downloading future-0.18.2.tar.gz (829 kB)\n",
            "     |████████████████████████████████| 829 kB 56.5 MB/s            \n",
            "\u001b[?25h  Preparing metadata (setup.py) ... \u001b[?25l\u001b[?25hdone\n",
            "Requirement already satisfied: pydot<2,>=1.2.0 in /usr/local/lib/python3.7/dist-packages (from apache-beam->object-detection==0.1) (1.3.0)\n",
            "Collecting requests<3.0.0,>=2.24.0\n",
            "  Downloading requests-2.26.0-py2.py3-none-any.whl (62 kB)\n",
            "     |████████████████████████████████| 62 kB 957 kB/s             \n",
            "\u001b[?25hRequirement already satisfied: typing-extensions<4,>=3.7.0 in /usr/local/lib/python3.7/dist-packages (from apache-beam->object-detection==0.1) (3.7.4.3)\n",
            "Requirement already satisfied: protobuf<4,>=3.12.2 in /usr/local/lib/python3.7/dist-packages (from apache-beam->object-detection==0.1) (3.17.3)\n",
            "Collecting dill<0.3.2,>=0.3.1.1\n",
            "  Downloading dill-0.3.1.1.tar.gz (151 kB)\n",
            "     |████████████████████████████████| 151 kB 56.5 MB/s            \n",
            "\u001b[?25h  Preparing metadata (setup.py) ... \u001b[?25l\u001b[?25hdone\n",
            "Requirement already satisfied: httplib2<0.20.0,>=0.8 in /usr/local/lib/python3.7/dist-packages (from apache-beam->object-detection==0.1) (0.17.4)\n",
            "Requirement already satisfied: oauth2client<5,>=2.0.1 in /usr/local/lib/python3.7/dist-packages (from apache-beam->object-detection==0.1) (4.1.3)\n",
            "Collecting orjson<4.0\n",
            "  Downloading orjson-3.6.4-cp37-cp37m-manylinux_2_24_x86_64.whl (249 kB)\n",
            "     |████████████████████████████████| 249 kB 59.8 MB/s            \n",
            "\u001b[?25hRequirement already satisfied: kiwisolver>=1.1.0 in /usr/local/lib/python3.7/dist-packages (from lvis->object-detection==0.1) (1.3.2)\n",
            "Requirement already satisfied: opencv-python>=4.1.0.25 in /usr/local/lib/python3.7/dist-packages (from lvis->object-detection==0.1) (4.1.2.30)\n",
            "Requirement already satisfied: pyparsing>=2.4.0 in /usr/local/lib/python3.7/dist-packages (from lvis->object-detection==0.1) (2.4.7)\n",
            "Requirement already satisfied: cycler>=0.10.0 in /usr/local/lib/python3.7/dist-packages (from lvis->object-detection==0.1) (0.10.0)\n",
            "Requirement already satisfied: setuptools>=18.0 in /usr/local/lib/python3.7/dist-packages (from pycocotools->object-detection==0.1) (57.4.0)\n",
            "Requirement already satisfied: tensorflow-datasets in /usr/local/lib/python3.7/dist-packages (from tf-models-official->object-detection==0.1) (4.0.1)\n",
            "Collecting sentencepiece\n",
            "  Downloading sentencepiece-0.1.96-cp37-cp37m-manylinux_2_17_x86_64.manylinux2014_x86_64.whl (1.2 MB)\n",
            "     |████████████████████████████████| 1.2 MB 54.4 MB/s            \n",
            "\u001b[?25hCollecting tensorflow-addons\n",
            "  Downloading tensorflow_addons-0.14.0-cp37-cp37m-manylinux_2_12_x86_64.manylinux2010_x86_64.whl (1.1 MB)\n",
            "     |████████████████████████████████| 1.1 MB 57.9 MB/s            \n",
            "\u001b[?25hRequirement already satisfied: tensorflow-hub>=0.6.0 in /usr/local/lib/python3.7/dist-packages (from tf-models-official->object-detection==0.1) (0.12.0)\n",
            "Requirement already satisfied: kaggle>=1.3.9 in /usr/local/lib/python3.7/dist-packages (from tf-models-official->object-detection==0.1) (1.5.12)\n",
            "Collecting tensorflow-text>=2.5.0\n",
            "  Downloading tensorflow_text-2.6.0-cp37-cp37m-manylinux1_x86_64.whl (4.4 MB)\n",
            "     |████████████████████████████████| 4.4 MB 54.7 MB/s            \n",
            "\u001b[?25hRequirement already satisfied: psutil>=5.4.3 in /usr/local/lib/python3.7/dist-packages (from tf-models-official->object-detection==0.1) (5.4.8)\n",
            "Collecting opencv-python-headless\n",
            "  Downloading opencv_python_headless-4.5.4.58-cp37-cp37m-manylinux2014_x86_64.whl (47.6 MB)\n",
            "     |████████████████████████████████| 47.6 MB 1.2 MB/s             \n",
            "\u001b[?25hRequirement already satisfied: tensorflow>=2.5.0 in /usr/local/lib/python3.7/dist-packages (from tf-models-official->object-detection==0.1) (2.6.0)\n",
            "Collecting seqeval\n",
            "  Downloading seqeval-1.2.2.tar.gz (43 kB)\n",
            "     |████████████████████████████████| 43 kB 1.9 MB/s             \n",
            "\u001b[?25h  Preparing metadata (setup.py) ... \u001b[?25l\u001b[?25hdone\n",
            "Collecting py-cpuinfo>=3.3.0\n",
            "  Downloading py-cpuinfo-8.0.0.tar.gz (99 kB)\n",
            "     |████████████████████████████████| 99 kB 9.3 MB/s             \n",
            "\u001b[?25h  Preparing metadata (setup.py) ... \u001b[?25l\u001b[?25hdone\n",
            "Requirement already satisfied: google-api-python-client>=1.6.7 in /usr/local/lib/python3.7/dist-packages (from tf-models-official->object-detection==0.1) (1.12.8)\n",
            "Requirement already satisfied: gin-config in /usr/local/lib/python3.7/dist-packages (from tf-models-official->object-detection==0.1) (0.4.0)\n",
            "Collecting tensorflow-model-optimization>=0.4.1\n",
            "  Downloading tensorflow_model_optimization-0.7.0-py2.py3-none-any.whl (213 kB)\n",
            "     |████████████████████████████████| 213 kB 41.9 MB/s            \n",
            "\u001b[?25hCollecting sacrebleu\n",
            "  Downloading sacrebleu-2.0.0-py3-none-any.whl (90 kB)\n",
            "     |████████████████████████████████| 90 kB 9.6 MB/s             \n",
            "\u001b[?25hCollecting pyyaml>=5.1\n",
            "  Downloading PyYAML-6.0-cp37-cp37m-manylinux_2_5_x86_64.manylinux1_x86_64.manylinux_2_12_x86_64.manylinux2010_x86_64.whl (596 kB)\n",
            "     |████████████████████████████████| 596 kB 57.7 MB/s            \n",
            "\u001b[?25hRequirement already satisfied: absl-py>=0.2.2 in /usr/local/lib/python3.7/dist-packages (from tf-slim->object-detection==0.1) (0.12.0)\n",
            "Requirement already satisfied: google-auth>=1.16.0 in /usr/local/lib/python3.7/dist-packages (from google-api-python-client>=1.6.7->tf-models-official->object-detection==0.1) (1.35.0)\n",
            "Requirement already satisfied: google-api-core<2dev,>=1.21.0 in /usr/local/lib/python3.7/dist-packages (from google-api-python-client>=1.6.7->tf-models-official->object-detection==0.1) (1.26.3)\n",
            "Requirement already satisfied: google-auth-httplib2>=0.0.3 in /usr/local/lib/python3.7/dist-packages (from google-api-python-client>=1.6.7->tf-models-official->object-detection==0.1) (0.0.4)\n",
            "Requirement already satisfied: uritemplate<4dev,>=3.0.0 in /usr/local/lib/python3.7/dist-packages (from google-api-python-client>=1.6.7->tf-models-official->object-detection==0.1) (3.0.1)\n",
            "Requirement already satisfied: docopt in /usr/local/lib/python3.7/dist-packages (from hdfs<3.0.0,>=2.1.0->apache-beam->object-detection==0.1) (0.6.2)\n",
            "Requirement already satisfied: certifi in /usr/local/lib/python3.7/dist-packages (from kaggle>=1.3.9->tf-models-official->object-detection==0.1) (2021.5.30)\n",
            "Requirement already satisfied: urllib3 in /usr/local/lib/python3.7/dist-packages (from kaggle>=1.3.9->tf-models-official->object-detection==0.1) (1.24.3)\n",
            "Requirement already satisfied: python-slugify in /usr/local/lib/python3.7/dist-packages (from kaggle>=1.3.9->tf-models-official->object-detection==0.1) (5.0.2)\n",
            "Requirement already satisfied: tqdm in /usr/local/lib/python3.7/dist-packages (from kaggle>=1.3.9->tf-models-official->object-detection==0.1) (4.62.3)\n",
            "Requirement already satisfied: pyasn1-modules>=0.0.5 in /usr/local/lib/python3.7/dist-packages (from oauth2client<5,>=2.0.1->apache-beam->object-detection==0.1) (0.2.8)\n",
            "Requirement already satisfied: rsa>=3.1.4 in /usr/local/lib/python3.7/dist-packages (from oauth2client<5,>=2.0.1->apache-beam->object-detection==0.1) (4.7.2)\n",
            "Requirement already satisfied: pyasn1>=0.1.7 in /usr/local/lib/python3.7/dist-packages (from oauth2client<5,>=2.0.1->apache-beam->object-detection==0.1) (0.4.8)\n",
            "Requirement already satisfied: idna<4,>=2.5 in /usr/local/lib/python3.7/dist-packages (from requests<3.0.0,>=2.24.0->apache-beam->object-detection==0.1) (2.10)\n",
            "Requirement already satisfied: charset-normalizer~=2.0.0 in /usr/local/lib/python3.7/dist-packages (from requests<3.0.0,>=2.24.0->apache-beam->object-detection==0.1) (2.0.7)\n",
            "Requirement already satisfied: astunparse~=1.6.3 in /usr/local/lib/python3.7/dist-packages (from tensorflow>=2.5.0->tf-models-official->object-detection==0.1) (1.6.3)\n",
            "Requirement already satisfied: flatbuffers~=1.12.0 in /usr/local/lib/python3.7/dist-packages (from tensorflow>=2.5.0->tf-models-official->object-detection==0.1) (1.12)\n",
            "Requirement already satisfied: keras~=2.6 in /usr/local/lib/python3.7/dist-packages (from tensorflow>=2.5.0->tf-models-official->object-detection==0.1) (2.6.0)\n",
            "Requirement already satisfied: termcolor~=1.1.0 in /usr/local/lib/python3.7/dist-packages (from tensorflow>=2.5.0->tf-models-official->object-detection==0.1) (1.1.0)\n",
            "Requirement already satisfied: wrapt~=1.12.1 in /usr/local/lib/python3.7/dist-packages (from tensorflow>=2.5.0->tf-models-official->object-detection==0.1) (1.12.1)\n",
            "Requirement already satisfied: h5py~=3.1.0 in /usr/local/lib/python3.7/dist-packages (from tensorflow>=2.5.0->tf-models-official->object-detection==0.1) (3.1.0)\n",
            "Requirement already satisfied: keras-preprocessing~=1.1.2 in /usr/local/lib/python3.7/dist-packages (from tensorflow>=2.5.0->tf-models-official->object-detection==0.1) (1.1.2)\n",
            "Requirement already satisfied: tensorflow-estimator~=2.6 in /usr/local/lib/python3.7/dist-packages (from tensorflow>=2.5.0->tf-models-official->object-detection==0.1) (2.6.0)\n",
            "Requirement already satisfied: opt-einsum~=3.3.0 in /usr/local/lib/python3.7/dist-packages (from tensorflow>=2.5.0->tf-models-official->object-detection==0.1) (3.3.0)\n",
            "Requirement already satisfied: google-pasta~=0.2 in /usr/local/lib/python3.7/dist-packages (from tensorflow>=2.5.0->tf-models-official->object-detection==0.1) (0.2.0)\n",
            "Requirement already satisfied: wheel~=0.35 in /usr/local/lib/python3.7/dist-packages (from tensorflow>=2.5.0->tf-models-official->object-detection==0.1) (0.37.0)\n",
            "Requirement already satisfied: gast==0.4.0 in /usr/local/lib/python3.7/dist-packages (from tensorflow>=2.5.0->tf-models-official->object-detection==0.1) (0.4.0)\n",
            "Requirement already satisfied: clang~=5.0 in /usr/local/lib/python3.7/dist-packages (from tensorflow>=2.5.0->tf-models-official->object-detection==0.1) (5.0)\n",
            "Requirement already satisfied: tensorboard~=2.6 in /usr/local/lib/python3.7/dist-packages (from tensorflow>=2.5.0->tf-models-official->object-detection==0.1) (2.6.0)\n",
            "Requirement already satisfied: dm-tree~=0.1.1 in /usr/local/lib/python3.7/dist-packages (from tensorflow-model-optimization>=0.4.1->tf-models-official->object-detection==0.1) (0.1.6)\n",
            "Requirement already satisfied: regex in /usr/local/lib/python3.7/dist-packages (from sacrebleu->tf-models-official->object-detection==0.1) (2019.12.20)\n",
            "Collecting portalocker\n",
            "  Downloading portalocker-2.3.2-py2.py3-none-any.whl (15 kB)\n",
            "Collecting colorama\n",
            "  Downloading colorama-0.4.4-py2.py3-none-any.whl (16 kB)\n",
            "Requirement already satisfied: tabulate>=0.8.9 in /usr/local/lib/python3.7/dist-packages (from sacrebleu->tf-models-official->object-detection==0.1) (0.8.9)\n",
            "Requirement already satisfied: scikit-learn>=0.21.3 in /usr/local/lib/python3.7/dist-packages (from seqeval->tf-models-official->object-detection==0.1) (0.22.2.post1)\n",
            "Requirement already satisfied: typeguard>=2.7 in /usr/local/lib/python3.7/dist-packages (from tensorflow-addons->tf-models-official->object-detection==0.1) (2.7.1)\n",
            "Requirement already satisfied: tensorflow-metadata in /usr/local/lib/python3.7/dist-packages (from tensorflow-datasets->tf-models-official->object-detection==0.1) (1.2.0)\n",
            "Requirement already satisfied: promise in /usr/local/lib/python3.7/dist-packages (from tensorflow-datasets->tf-models-official->object-detection==0.1) (2.3)\n",
            "Requirement already satisfied: attrs>=18.1.0 in /usr/local/lib/python3.7/dist-packages (from tensorflow-datasets->tf-models-official->object-detection==0.1) (21.2.0)\n",
            "Requirement already satisfied: importlib-resources in /usr/local/lib/python3.7/dist-packages (from tensorflow-datasets->tf-models-official->object-detection==0.1) (5.2.2)\n",
            "Requirement already satisfied: googleapis-common-protos<2.0dev,>=1.6.0 in /usr/local/lib/python3.7/dist-packages (from google-api-core<2dev,>=1.21.0->google-api-python-client>=1.6.7->tf-models-official->object-detection==0.1) (1.53.0)\n",
            "Requirement already satisfied: packaging>=14.3 in /usr/local/lib/python3.7/dist-packages (from google-api-core<2dev,>=1.21.0->google-api-python-client>=1.6.7->tf-models-official->object-detection==0.1) (21.0)\n",
            "Requirement already satisfied: cachetools<5.0,>=2.0.0 in /usr/local/lib/python3.7/dist-packages (from google-auth>=1.16.0->google-api-python-client>=1.6.7->tf-models-official->object-detection==0.1) (4.2.4)\n",
            "Requirement already satisfied: cached-property in /usr/local/lib/python3.7/dist-packages (from h5py~=3.1.0->tensorflow>=2.5.0->tf-models-official->object-detection==0.1) (1.5.2)\n",
            "Requirement already satisfied: joblib>=0.11 in /usr/local/lib/python3.7/dist-packages (from scikit-learn>=0.21.3->seqeval->tf-models-official->object-detection==0.1) (1.0.1)\n",
            "Requirement already satisfied: tensorboard-data-server<0.7.0,>=0.6.0 in /usr/local/lib/python3.7/dist-packages (from tensorboard~=2.6->tensorflow>=2.5.0->tf-models-official->object-detection==0.1) (0.6.1)\n",
            "Requirement already satisfied: werkzeug>=0.11.15 in /usr/local/lib/python3.7/dist-packages (from tensorboard~=2.6->tensorflow>=2.5.0->tf-models-official->object-detection==0.1) (1.0.1)\n",
            "Requirement already satisfied: markdown>=2.6.8 in /usr/local/lib/python3.7/dist-packages (from tensorboard~=2.6->tensorflow>=2.5.0->tf-models-official->object-detection==0.1) (3.3.4)\n",
            "Requirement already satisfied: tensorboard-plugin-wit>=1.6.0 in /usr/local/lib/python3.7/dist-packages (from tensorboard~=2.6->tensorflow>=2.5.0->tf-models-official->object-detection==0.1) (1.8.0)\n",
            "Requirement already satisfied: google-auth-oauthlib<0.5,>=0.4.1 in /usr/local/lib/python3.7/dist-packages (from tensorboard~=2.6->tensorflow>=2.5.0->tf-models-official->object-detection==0.1) (0.4.6)\n",
            "Requirement already satisfied: zipp>=3.1.0 in /usr/local/lib/python3.7/dist-packages (from importlib-resources->tensorflow-datasets->tf-models-official->object-detection==0.1) (3.6.0)\n",
            "Requirement already satisfied: text-unidecode>=1.3 in /usr/local/lib/python3.7/dist-packages (from python-slugify->kaggle>=1.3.9->tf-models-official->object-detection==0.1) (1.3)\n",
            "Requirement already satisfied: requests-oauthlib>=0.7.0 in /usr/local/lib/python3.7/dist-packages (from google-auth-oauthlib<0.5,>=0.4.1->tensorboard~=2.6->tensorflow>=2.5.0->tf-models-official->object-detection==0.1) (1.3.0)\n",
            "Requirement already satisfied: importlib-metadata in /usr/local/lib/python3.7/dist-packages (from markdown>=2.6.8->tensorboard~=2.6->tensorflow>=2.5.0->tf-models-official->object-detection==0.1) (4.8.1)\n",
            "Requirement already satisfied: oauthlib>=3.0.0 in /usr/local/lib/python3.7/dist-packages (from requests-oauthlib>=0.7.0->google-auth-oauthlib<0.5,>=0.4.1->tensorboard~=2.6->tensorflow>=2.5.0->tf-models-official->object-detection==0.1) (3.1.1)\n",
            "Building wheels for collected packages: object-detection, avro-python3, dill, future, py-cpuinfo, seqeval\n",
            "  Building wheel for object-detection (setup.py) ... \u001b[?25l\u001b[?25hdone\n",
            "  Created wheel for object-detection: filename=object_detection-0.1-py3-none-any.whl size=20202224 sha256=6566e87844e9e546fe522b213f66b76b25fed19f51a18a146107b5c467928060\n",
            "  Stored in directory: /tmp/pip-ephem-wheel-cache-4t_0kazw/wheels/26/ed/37/b0d15e8d22c1c2cdd5677f36744ee9fdda794861cf49a6de16\n",
            "  Building wheel for avro-python3 (setup.py) ... \u001b[?25l\u001b[?25hdone\n",
            "  Created wheel for avro-python3: filename=avro_python3-1.9.2.1-py3-none-any.whl size=43512 sha256=6ef9844bd25bb4ac1a64b4f0e01c818726fab9e734e0609aa372281a1bc91244\n",
            "  Stored in directory: /root/.cache/pip/wheels/bc/49/5f/fdb5b9d85055c478213e0158ac122b596816149a02d82e0ab1\n",
            "  Building wheel for dill (setup.py) ... \u001b[?25l\u001b[?25hdone\n",
            "  Created wheel for dill: filename=dill-0.3.1.1-py3-none-any.whl size=78546 sha256=0d807537d0363a226ff8347e806b7c6793465281e0c041fdda8be3881481930d\n",
            "  Stored in directory: /root/.cache/pip/wheels/a4/61/fd/c57e374e580aa78a45ed78d5859b3a44436af17e22ca53284f\n",
            "  Building wheel for future (setup.py) ... \u001b[?25l\u001b[?25hdone\n",
            "  Created wheel for future: filename=future-0.18.2-py3-none-any.whl size=491070 sha256=879fbdd2c6db30405d6f22fb39b5ece96f21b0f17772efa2e9bda4a2184ddb7e\n",
            "  Stored in directory: /root/.cache/pip/wheels/56/b0/fe/4410d17b32f1f0c3cf54cdfb2bc04d7b4b8f4ae377e2229ba0\n",
            "  Building wheel for py-cpuinfo (setup.py) ... \u001b[?25l\u001b[?25hdone\n",
            "  Created wheel for py-cpuinfo: filename=py_cpuinfo-8.0.0-py3-none-any.whl size=22258 sha256=7c8873985c80c61bb1feb77f725706283a2afa96d78b6dc3c480ba72306c8c12\n",
            "  Stored in directory: /root/.cache/pip/wheels/d2/f1/1f/041add21dc9c4220157f1bd2bd6afe1f1a49524c3396b94401\n",
            "  Building wheel for seqeval (setup.py) ... \u001b[?25l\u001b[?25hdone\n",
            "  Created wheel for seqeval: filename=seqeval-1.2.2-py3-none-any.whl size=16181 sha256=4b2250a9805c208c32b748a417ee7a64404584ee0f09c5b2acd059452d454fa5\n",
            "  Stored in directory: /root/.cache/pip/wheels/05/96/ee/7cac4e74f3b19e3158dce26a20a1c86b3533c43ec72a549fd7\n",
            "Successfully built object-detection avro-python3 dill future py-cpuinfo seqeval\n",
            "Installing collected packages: requests, portalocker, future, dill, colorama, tf-slim, tensorflow-text, tensorflow-model-optimization, tensorflow-addons, seqeval, sentencepiece, sacrebleu, pyyaml, py-cpuinfo, orjson, opencv-python-headless, hdfs, fastavro, avro-python3, tf-models-official, lvis, apache-beam, object-detection\n",
            "  Attempting uninstall: requests\n",
            "    Found existing installation: requests 2.23.0\n",
            "    Uninstalling requests-2.23.0:\n",
            "      Successfully uninstalled requests-2.23.0\n",
            "  Attempting uninstall: future\n",
            "    Found existing installation: future 0.16.0\n",
            "    Uninstalling future-0.16.0:\n",
            "      Successfully uninstalled future-0.16.0\n",
            "  Attempting uninstall: dill\n",
            "    Found existing installation: dill 0.3.4\n",
            "    Uninstalling dill-0.3.4:\n",
            "      Successfully uninstalled dill-0.3.4\n",
            "  Attempting uninstall: pyyaml\n",
            "    Found existing installation: PyYAML 3.13\n",
            "    Uninstalling PyYAML-3.13:\n",
            "      Successfully uninstalled PyYAML-3.13\n",
            "\u001b[31mERROR: pip's dependency resolver does not currently take into account all the packages that are installed. This behaviour is the source of the following dependency conflicts.\n",
            "multiprocess 0.70.12.2 requires dill>=0.3.4, but you have dill 0.3.1.1 which is incompatible.\n",
            "google-colab 1.0.0 requires requests~=2.23.0, but you have requests 2.26.0 which is incompatible.\n",
            "datascience 0.10.6 requires folium==0.2.1, but you have folium 0.8.3 which is incompatible.\u001b[0m\n",
            "Successfully installed apache-beam-2.33.0 avro-python3-1.9.2.1 colorama-0.4.4 dill-0.3.1.1 fastavro-1.4.7 future-0.18.2 hdfs-2.6.0 lvis-0.5.3 object-detection-0.1 opencv-python-headless-4.5.4.58 orjson-3.6.4 portalocker-2.3.2 py-cpuinfo-8.0.0 pyyaml-6.0 requests-2.26.0 sacrebleu-2.0.0 sentencepiece-0.1.96 seqeval-1.2.2 tensorflow-addons-0.14.0 tensorflow-model-optimization-0.7.0 tensorflow-text-2.6.0 tf-models-official-2.6.0 tf-slim-1.1.0\n",
            "\u001b[33mWARNING: Running pip as the 'root' user can result in broken permissions and conflicting behaviour with the system package manager. It is recommended to use a virtual environment instead: https://pip.pypa.io/warnings/venv\u001b[0m\n"
          ]
        }
      ]
    },
    {
      "cell_type": "code",
      "metadata": {
        "id": "ZkdtOLBHAQJC",
        "colab": {
          "base_uri": "https://localhost:8080/"
        },
        "outputId": "2df903bd-4279-4914-ea6a-fa4879fb8580"
      },
      "source": [
        "!python object_detection/builders/model_builder_tf2_test.py"
      ],
      "execution_count": null,
      "outputs": [
        {
          "output_type": "stream",
          "name": "stdout",
          "text": [
            "2021-11-04 05:16:34.887083: I tensorflow/stream_executor/cuda/cuda_gpu_executor.cc:937] successful NUMA node read from SysFS had negative value (-1), but there must be at least one NUMA node, so returning NUMA node zero\n",
            "2021-11-04 05:16:35.159829: I tensorflow/stream_executor/cuda/cuda_gpu_executor.cc:937] successful NUMA node read from SysFS had negative value (-1), but there must be at least one NUMA node, so returning NUMA node zero\n",
            "2021-11-04 05:16:35.160712: I tensorflow/stream_executor/cuda/cuda_gpu_executor.cc:937] successful NUMA node read from SysFS had negative value (-1), but there must be at least one NUMA node, so returning NUMA node zero\n",
            "Running tests under Python 3.7.12: /usr/bin/python3\n",
            "[ RUN      ] ModelBuilderTF2Test.test_create_center_net_model\n",
            "2021-11-04 05:16:35.730482: I tensorflow/stream_executor/cuda/cuda_gpu_executor.cc:937] successful NUMA node read from SysFS had negative value (-1), but there must be at least one NUMA node, so returning NUMA node zero\n",
            "2021-11-04 05:16:35.731555: I tensorflow/stream_executor/cuda/cuda_gpu_executor.cc:937] successful NUMA node read from SysFS had negative value (-1), but there must be at least one NUMA node, so returning NUMA node zero\n",
            "2021-11-04 05:16:35.732497: I tensorflow/stream_executor/cuda/cuda_gpu_executor.cc:937] successful NUMA node read from SysFS had negative value (-1), but there must be at least one NUMA node, so returning NUMA node zero\n",
            "2021-11-04 05:16:38.589801: I tensorflow/stream_executor/cuda/cuda_gpu_executor.cc:937] successful NUMA node read from SysFS had negative value (-1), but there must be at least one NUMA node, so returning NUMA node zero\n",
            "2021-11-04 05:16:38.590765: I tensorflow/stream_executor/cuda/cuda_gpu_executor.cc:937] successful NUMA node read from SysFS had negative value (-1), but there must be at least one NUMA node, so returning NUMA node zero\n",
            "2021-11-04 05:16:38.591543: I tensorflow/stream_executor/cuda/cuda_gpu_executor.cc:937] successful NUMA node read from SysFS had negative value (-1), but there must be at least one NUMA node, so returning NUMA node zero\n",
            "2021-11-04 05:16:38.592302: W tensorflow/core/common_runtime/gpu/gpu_bfc_allocator.cc:39] Overriding allow_growth setting because the TF_FORCE_GPU_ALLOW_GROWTH environment variable is set. Original config value was 0.\n",
            "2021-11-04 05:16:38.592359: I tensorflow/core/common_runtime/gpu/gpu_device.cc:1510] Created device /job:localhost/replica:0/task:0/device:GPU:0 with 15435 MB memory:  -> device: 0, name: Tesla P100-PCIE-16GB, pci bus id: 0000:00:04.0, compute capability: 6.0\n",
            "INFO:tensorflow:time(__main__.ModelBuilderTF2Test.test_create_center_net_model): 6.44s\n",
            "I1104 05:16:41.607997 139897450895232 test_util.py:2189] time(__main__.ModelBuilderTF2Test.test_create_center_net_model): 6.44s\n",
            "[       OK ] ModelBuilderTF2Test.test_create_center_net_model\n",
            "[ RUN      ] ModelBuilderTF2Test.test_create_experimental_model\n",
            "INFO:tensorflow:time(__main__.ModelBuilderTF2Test.test_create_experimental_model): 0.0s\n",
            "I1104 05:16:41.609135 139897450895232 test_util.py:2189] time(__main__.ModelBuilderTF2Test.test_create_experimental_model): 0.0s\n",
            "[       OK ] ModelBuilderTF2Test.test_create_experimental_model\n",
            "[ RUN      ] ModelBuilderTF2Test.test_create_faster_rcnn_from_config_with_crop_feature0 (True)\n",
            "INFO:tensorflow:time(__main__.ModelBuilderTF2Test.test_create_faster_rcnn_from_config_with_crop_feature0 (True)): 0.02s\n",
            "I1104 05:16:41.633811 139897450895232 test_util.py:2189] time(__main__.ModelBuilderTF2Test.test_create_faster_rcnn_from_config_with_crop_feature0 (True)): 0.02s\n",
            "[       OK ] ModelBuilderTF2Test.test_create_faster_rcnn_from_config_with_crop_feature0 (True)\n",
            "[ RUN      ] ModelBuilderTF2Test.test_create_faster_rcnn_from_config_with_crop_feature1 (False)\n",
            "INFO:tensorflow:time(__main__.ModelBuilderTF2Test.test_create_faster_rcnn_from_config_with_crop_feature1 (False)): 0.02s\n",
            "I1104 05:16:41.651818 139897450895232 test_util.py:2189] time(__main__.ModelBuilderTF2Test.test_create_faster_rcnn_from_config_with_crop_feature1 (False)): 0.02s\n",
            "[       OK ] ModelBuilderTF2Test.test_create_faster_rcnn_from_config_with_crop_feature1 (False)\n",
            "[ RUN      ] ModelBuilderTF2Test.test_create_faster_rcnn_model_from_config_with_example_miner\n",
            "INFO:tensorflow:time(__main__.ModelBuilderTF2Test.test_create_faster_rcnn_model_from_config_with_example_miner): 0.02s\n",
            "I1104 05:16:41.668489 139897450895232 test_util.py:2189] time(__main__.ModelBuilderTF2Test.test_create_faster_rcnn_model_from_config_with_example_miner): 0.02s\n",
            "[       OK ] ModelBuilderTF2Test.test_create_faster_rcnn_model_from_config_with_example_miner\n",
            "[ RUN      ] ModelBuilderTF2Test.test_create_faster_rcnn_models_from_config_faster_rcnn_with_matmul\n",
            "INFO:tensorflow:time(__main__.ModelBuilderTF2Test.test_create_faster_rcnn_models_from_config_faster_rcnn_with_matmul): 0.11s\n",
            "I1104 05:16:41.776633 139897450895232 test_util.py:2189] time(__main__.ModelBuilderTF2Test.test_create_faster_rcnn_models_from_config_faster_rcnn_with_matmul): 0.11s\n",
            "[       OK ] ModelBuilderTF2Test.test_create_faster_rcnn_models_from_config_faster_rcnn_with_matmul\n",
            "[ RUN      ] ModelBuilderTF2Test.test_create_faster_rcnn_models_from_config_faster_rcnn_without_matmul\n",
            "INFO:tensorflow:time(__main__.ModelBuilderTF2Test.test_create_faster_rcnn_models_from_config_faster_rcnn_without_matmul): 0.11s\n",
            "I1104 05:16:41.885444 139897450895232 test_util.py:2189] time(__main__.ModelBuilderTF2Test.test_create_faster_rcnn_models_from_config_faster_rcnn_without_matmul): 0.11s\n",
            "[       OK ] ModelBuilderTF2Test.test_create_faster_rcnn_models_from_config_faster_rcnn_without_matmul\n",
            "[ RUN      ] ModelBuilderTF2Test.test_create_faster_rcnn_models_from_config_mask_rcnn_with_matmul\n",
            "INFO:tensorflow:time(__main__.ModelBuilderTF2Test.test_create_faster_rcnn_models_from_config_mask_rcnn_with_matmul): 0.11s\n",
            "I1104 05:16:41.996454 139897450895232 test_util.py:2189] time(__main__.ModelBuilderTF2Test.test_create_faster_rcnn_models_from_config_mask_rcnn_with_matmul): 0.11s\n",
            "[       OK ] ModelBuilderTF2Test.test_create_faster_rcnn_models_from_config_mask_rcnn_with_matmul\n",
            "[ RUN      ] ModelBuilderTF2Test.test_create_faster_rcnn_models_from_config_mask_rcnn_without_matmul\n",
            "INFO:tensorflow:time(__main__.ModelBuilderTF2Test.test_create_faster_rcnn_models_from_config_mask_rcnn_without_matmul): 0.11s\n",
            "I1104 05:16:42.106859 139897450895232 test_util.py:2189] time(__main__.ModelBuilderTF2Test.test_create_faster_rcnn_models_from_config_mask_rcnn_without_matmul): 0.11s\n",
            "[       OK ] ModelBuilderTF2Test.test_create_faster_rcnn_models_from_config_mask_rcnn_without_matmul\n",
            "[ RUN      ] ModelBuilderTF2Test.test_create_rfcn_model_from_config\n",
            "INFO:tensorflow:time(__main__.ModelBuilderTF2Test.test_create_rfcn_model_from_config): 0.11s\n",
            "I1104 05:16:42.216441 139897450895232 test_util.py:2189] time(__main__.ModelBuilderTF2Test.test_create_rfcn_model_from_config): 0.11s\n",
            "[       OK ] ModelBuilderTF2Test.test_create_rfcn_model_from_config\n",
            "[ RUN      ] ModelBuilderTF2Test.test_create_ssd_fpn_model_from_config\n",
            "INFO:tensorflow:time(__main__.ModelBuilderTF2Test.test_create_ssd_fpn_model_from_config): 0.18s\n",
            "I1104 05:16:42.394688 139897450895232 test_util.py:2189] time(__main__.ModelBuilderTF2Test.test_create_ssd_fpn_model_from_config): 0.18s\n",
            "[       OK ] ModelBuilderTF2Test.test_create_ssd_fpn_model_from_config\n",
            "[ RUN      ] ModelBuilderTF2Test.test_create_ssd_models_from_config\n",
            "I1104 05:16:42.590578 139897450895232 ssd_efficientnet_bifpn_feature_extractor.py:144] EfficientDet EfficientNet backbone version: efficientnet-b0\n",
            "I1104 05:16:42.590709 139897450895232 ssd_efficientnet_bifpn_feature_extractor.py:145] EfficientDet BiFPN num filters: 64\n",
            "I1104 05:16:42.590785 139897450895232 ssd_efficientnet_bifpn_feature_extractor.py:147] EfficientDet BiFPN num iterations: 3\n",
            "I1104 05:16:42.592819 139897450895232 efficientnet_model.py:147] round_filter input=32 output=32\n",
            "I1104 05:16:42.612068 139897450895232 efficientnet_model.py:147] round_filter input=32 output=32\n",
            "I1104 05:16:42.612210 139897450895232 efficientnet_model.py:147] round_filter input=16 output=16\n",
            "I1104 05:16:42.682920 139897450895232 efficientnet_model.py:147] round_filter input=16 output=16\n",
            "I1104 05:16:42.683044 139897450895232 efficientnet_model.py:147] round_filter input=24 output=24\n",
            "I1104 05:16:42.857000 139897450895232 efficientnet_model.py:147] round_filter input=24 output=24\n",
            "I1104 05:16:42.857134 139897450895232 efficientnet_model.py:147] round_filter input=40 output=40\n",
            "I1104 05:16:43.039552 139897450895232 efficientnet_model.py:147] round_filter input=40 output=40\n",
            "I1104 05:16:43.039706 139897450895232 efficientnet_model.py:147] round_filter input=80 output=80\n",
            "I1104 05:16:43.318079 139897450895232 efficientnet_model.py:147] round_filter input=80 output=80\n",
            "I1104 05:16:43.318263 139897450895232 efficientnet_model.py:147] round_filter input=112 output=112\n",
            "I1104 05:16:43.572791 139897450895232 efficientnet_model.py:147] round_filter input=112 output=112\n",
            "I1104 05:16:43.572961 139897450895232 efficientnet_model.py:147] round_filter input=192 output=192\n",
            "I1104 05:16:43.904914 139897450895232 efficientnet_model.py:147] round_filter input=192 output=192\n",
            "I1104 05:16:43.905154 139897450895232 efficientnet_model.py:147] round_filter input=320 output=320\n",
            "I1104 05:16:43.982928 139897450895232 efficientnet_model.py:147] round_filter input=1280 output=1280\n",
            "I1104 05:16:44.013236 139897450895232 efficientnet_model.py:458] Building model efficientnet with params ModelConfig(width_coefficient=1.0, depth_coefficient=1.0, resolution=224, dropout_rate=0.2, blocks=(BlockConfig(input_filters=32, output_filters=16, kernel_size=3, num_repeat=1, expand_ratio=1, strides=(1, 1), se_ratio=0.25, id_skip=True, fused_conv=False, conv_type='depthwise'), BlockConfig(input_filters=16, output_filters=24, kernel_size=3, num_repeat=2, expand_ratio=6, strides=(2, 2), se_ratio=0.25, id_skip=True, fused_conv=False, conv_type='depthwise'), BlockConfig(input_filters=24, output_filters=40, kernel_size=5, num_repeat=2, expand_ratio=6, strides=(2, 2), se_ratio=0.25, id_skip=True, fused_conv=False, conv_type='depthwise'), BlockConfig(input_filters=40, output_filters=80, kernel_size=3, num_repeat=3, expand_ratio=6, strides=(2, 2), se_ratio=0.25, id_skip=True, fused_conv=False, conv_type='depthwise'), BlockConfig(input_filters=80, output_filters=112, kernel_size=5, num_repeat=3, expand_ratio=6, strides=(1, 1), se_ratio=0.25, id_skip=True, fused_conv=False, conv_type='depthwise'), BlockConfig(input_filters=112, output_filters=192, kernel_size=5, num_repeat=4, expand_ratio=6, strides=(2, 2), se_ratio=0.25, id_skip=True, fused_conv=False, conv_type='depthwise'), BlockConfig(input_filters=192, output_filters=320, kernel_size=3, num_repeat=1, expand_ratio=6, strides=(1, 1), se_ratio=0.25, id_skip=True, fused_conv=False, conv_type='depthwise')), stem_base_filters=32, top_base_filters=1280, activation='simple_swish', batch_norm='default', bn_momentum=0.99, bn_epsilon=0.001, weight_decay=5e-06, drop_connect_rate=0.2, depth_divisor=8, min_depth=None, use_se=True, input_channels=3, num_classes=1000, model_name='efficientnet', rescale_input=False, data_format='channels_last', dtype='float32')\n",
            "I1104 05:16:44.071291 139897450895232 ssd_efficientnet_bifpn_feature_extractor.py:144] EfficientDet EfficientNet backbone version: efficientnet-b1\n",
            "I1104 05:16:44.071453 139897450895232 ssd_efficientnet_bifpn_feature_extractor.py:145] EfficientDet BiFPN num filters: 88\n",
            "I1104 05:16:44.071526 139897450895232 ssd_efficientnet_bifpn_feature_extractor.py:147] EfficientDet BiFPN num iterations: 4\n",
            "I1104 05:16:44.073246 139897450895232 efficientnet_model.py:147] round_filter input=32 output=32\n",
            "I1104 05:16:44.089352 139897450895232 efficientnet_model.py:147] round_filter input=32 output=32\n",
            "I1104 05:16:44.089509 139897450895232 efficientnet_model.py:147] round_filter input=16 output=16\n",
            "I1104 05:16:44.223064 139897450895232 efficientnet_model.py:147] round_filter input=16 output=16\n",
            "I1104 05:16:44.223193 139897450895232 efficientnet_model.py:147] round_filter input=24 output=24\n",
            "I1104 05:16:44.490760 139897450895232 efficientnet_model.py:147] round_filter input=24 output=24\n",
            "I1104 05:16:44.490967 139897450895232 efficientnet_model.py:147] round_filter input=40 output=40\n",
            "I1104 05:16:44.749618 139897450895232 efficientnet_model.py:147] round_filter input=40 output=40\n",
            "I1104 05:16:44.749781 139897450895232 efficientnet_model.py:147] round_filter input=80 output=80\n",
            "I1104 05:16:45.084830 139897450895232 efficientnet_model.py:147] round_filter input=80 output=80\n",
            "I1104 05:16:45.084991 139897450895232 efficientnet_model.py:147] round_filter input=112 output=112\n",
            "I1104 05:16:45.431762 139897450895232 efficientnet_model.py:147] round_filter input=112 output=112\n",
            "I1104 05:16:45.431901 139897450895232 efficientnet_model.py:147] round_filter input=192 output=192\n",
            "I1104 05:16:45.966769 139897450895232 efficientnet_model.py:147] round_filter input=192 output=192\n",
            "I1104 05:16:45.966974 139897450895232 efficientnet_model.py:147] round_filter input=320 output=320\n",
            "I1104 05:16:46.128087 139897450895232 efficientnet_model.py:147] round_filter input=1280 output=1280\n",
            "I1104 05:16:46.159458 139897450895232 efficientnet_model.py:458] Building model efficientnet with params ModelConfig(width_coefficient=1.0, depth_coefficient=1.1, resolution=240, dropout_rate=0.2, blocks=(BlockConfig(input_filters=32, output_filters=16, kernel_size=3, num_repeat=1, expand_ratio=1, strides=(1, 1), se_ratio=0.25, id_skip=True, fused_conv=False, conv_type='depthwise'), BlockConfig(input_filters=16, output_filters=24, kernel_size=3, num_repeat=2, expand_ratio=6, strides=(2, 2), se_ratio=0.25, id_skip=True, fused_conv=False, conv_type='depthwise'), BlockConfig(input_filters=24, output_filters=40, kernel_size=5, num_repeat=2, expand_ratio=6, strides=(2, 2), se_ratio=0.25, id_skip=True, fused_conv=False, conv_type='depthwise'), BlockConfig(input_filters=40, output_filters=80, kernel_size=3, num_repeat=3, expand_ratio=6, strides=(2, 2), se_ratio=0.25, id_skip=True, fused_conv=False, conv_type='depthwise'), BlockConfig(input_filters=80, output_filters=112, kernel_size=5, num_repeat=3, expand_ratio=6, strides=(1, 1), se_ratio=0.25, id_skip=True, fused_conv=False, conv_type='depthwise'), BlockConfig(input_filters=112, output_filters=192, kernel_size=5, num_repeat=4, expand_ratio=6, strides=(2, 2), se_ratio=0.25, id_skip=True, fused_conv=False, conv_type='depthwise'), BlockConfig(input_filters=192, output_filters=320, kernel_size=3, num_repeat=1, expand_ratio=6, strides=(1, 1), se_ratio=0.25, id_skip=True, fused_conv=False, conv_type='depthwise')), stem_base_filters=32, top_base_filters=1280, activation='simple_swish', batch_norm='default', bn_momentum=0.99, bn_epsilon=0.001, weight_decay=5e-06, drop_connect_rate=0.2, depth_divisor=8, min_depth=None, use_se=True, input_channels=3, num_classes=1000, model_name='efficientnet', rescale_input=False, data_format='channels_last', dtype='float32')\n",
            "I1104 05:16:46.231737 139897450895232 ssd_efficientnet_bifpn_feature_extractor.py:144] EfficientDet EfficientNet backbone version: efficientnet-b2\n",
            "I1104 05:16:46.231849 139897450895232 ssd_efficientnet_bifpn_feature_extractor.py:145] EfficientDet BiFPN num filters: 112\n",
            "I1104 05:16:46.231927 139897450895232 ssd_efficientnet_bifpn_feature_extractor.py:147] EfficientDet BiFPN num iterations: 5\n",
            "I1104 05:16:46.233807 139897450895232 efficientnet_model.py:147] round_filter input=32 output=32\n",
            "I1104 05:16:46.250576 139897450895232 efficientnet_model.py:147] round_filter input=32 output=32\n",
            "I1104 05:16:46.250717 139897450895232 efficientnet_model.py:147] round_filter input=16 output=16\n",
            "I1104 05:16:46.380262 139897450895232 efficientnet_model.py:147] round_filter input=16 output=16\n",
            "I1104 05:16:46.380487 139897450895232 efficientnet_model.py:147] round_filter input=24 output=24\n",
            "I1104 05:16:46.640776 139897450895232 efficientnet_model.py:147] round_filter input=24 output=24\n",
            "I1104 05:16:46.640902 139897450895232 efficientnet_model.py:147] round_filter input=40 output=48\n",
            "I1104 05:16:46.890778 139897450895232 efficientnet_model.py:147] round_filter input=40 output=48\n",
            "I1104 05:16:46.890931 139897450895232 efficientnet_model.py:147] round_filter input=80 output=88\n",
            "I1104 05:16:47.220028 139897450895232 efficientnet_model.py:147] round_filter input=80 output=88\n",
            "I1104 05:16:47.220171 139897450895232 efficientnet_model.py:147] round_filter input=112 output=120\n",
            "I1104 05:16:47.542565 139897450895232 efficientnet_model.py:147] round_filter input=112 output=120\n",
            "I1104 05:16:47.542697 139897450895232 efficientnet_model.py:147] round_filter input=192 output=208\n",
            "I1104 05:16:47.944159 139897450895232 efficientnet_model.py:147] round_filter input=192 output=208\n",
            "I1104 05:16:47.944349 139897450895232 efficientnet_model.py:147] round_filter input=320 output=352\n",
            "I1104 05:16:48.102102 139897450895232 efficientnet_model.py:147] round_filter input=1280 output=1408\n",
            "I1104 05:16:48.131722 139897450895232 efficientnet_model.py:458] Building model efficientnet with params ModelConfig(width_coefficient=1.1, depth_coefficient=1.2, resolution=260, dropout_rate=0.3, blocks=(BlockConfig(input_filters=32, output_filters=16, kernel_size=3, num_repeat=1, expand_ratio=1, strides=(1, 1), se_ratio=0.25, id_skip=True, fused_conv=False, conv_type='depthwise'), BlockConfig(input_filters=16, output_filters=24, kernel_size=3, num_repeat=2, expand_ratio=6, strides=(2, 2), se_ratio=0.25, id_skip=True, fused_conv=False, conv_type='depthwise'), BlockConfig(input_filters=24, output_filters=40, kernel_size=5, num_repeat=2, expand_ratio=6, strides=(2, 2), se_ratio=0.25, id_skip=True, fused_conv=False, conv_type='depthwise'), BlockConfig(input_filters=40, output_filters=80, kernel_size=3, num_repeat=3, expand_ratio=6, strides=(2, 2), se_ratio=0.25, id_skip=True, fused_conv=False, conv_type='depthwise'), BlockConfig(input_filters=80, output_filters=112, kernel_size=5, num_repeat=3, expand_ratio=6, strides=(1, 1), se_ratio=0.25, id_skip=True, fused_conv=False, conv_type='depthwise'), BlockConfig(input_filters=112, output_filters=192, kernel_size=5, num_repeat=4, expand_ratio=6, strides=(2, 2), se_ratio=0.25, id_skip=True, fused_conv=False, conv_type='depthwise'), BlockConfig(input_filters=192, output_filters=320, kernel_size=3, num_repeat=1, expand_ratio=6, strides=(1, 1), se_ratio=0.25, id_skip=True, fused_conv=False, conv_type='depthwise')), stem_base_filters=32, top_base_filters=1280, activation='simple_swish', batch_norm='default', bn_momentum=0.99, bn_epsilon=0.001, weight_decay=5e-06, drop_connect_rate=0.2, depth_divisor=8, min_depth=None, use_se=True, input_channels=3, num_classes=1000, model_name='efficientnet', rescale_input=False, data_format='channels_last', dtype='float32')\n",
            "I1104 05:16:48.201084 139897450895232 ssd_efficientnet_bifpn_feature_extractor.py:144] EfficientDet EfficientNet backbone version: efficientnet-b3\n",
            "I1104 05:16:48.201205 139897450895232 ssd_efficientnet_bifpn_feature_extractor.py:145] EfficientDet BiFPN num filters: 160\n",
            "I1104 05:16:48.201315 139897450895232 ssd_efficientnet_bifpn_feature_extractor.py:147] EfficientDet BiFPN num iterations: 6\n",
            "I1104 05:16:48.202873 139897450895232 efficientnet_model.py:147] round_filter input=32 output=40\n",
            "I1104 05:16:48.221487 139897450895232 efficientnet_model.py:147] round_filter input=32 output=40\n",
            "I1104 05:16:48.221607 139897450895232 efficientnet_model.py:147] round_filter input=16 output=24\n",
            "I1104 05:16:48.363485 139897450895232 efficientnet_model.py:147] round_filter input=16 output=24\n",
            "I1104 05:16:48.363658 139897450895232 efficientnet_model.py:147] round_filter input=24 output=32\n",
            "I1104 05:16:48.615341 139897450895232 efficientnet_model.py:147] round_filter input=24 output=32\n",
            "I1104 05:16:48.615643 139897450895232 efficientnet_model.py:147] round_filter input=40 output=48\n",
            "I1104 05:16:48.862394 139897450895232 efficientnet_model.py:147] round_filter input=40 output=48\n",
            "I1104 05:16:48.862578 139897450895232 efficientnet_model.py:147] round_filter input=80 output=96\n",
            "I1104 05:16:49.271693 139897450895232 efficientnet_model.py:147] round_filter input=80 output=96\n",
            "I1104 05:16:49.271849 139897450895232 efficientnet_model.py:147] round_filter input=112 output=136\n",
            "I1104 05:16:49.708997 139897450895232 efficientnet_model.py:147] round_filter input=112 output=136\n",
            "I1104 05:16:49.709171 139897450895232 efficientnet_model.py:147] round_filter input=192 output=232\n",
            "I1104 05:16:50.430205 139897450895232 efficientnet_model.py:147] round_filter input=192 output=232\n",
            "I1104 05:16:50.430488 139897450895232 efficientnet_model.py:147] round_filter input=320 output=384\n",
            "I1104 05:16:50.607675 139897450895232 efficientnet_model.py:147] round_filter input=1280 output=1536\n",
            "I1104 05:16:50.638451 139897450895232 efficientnet_model.py:458] Building model efficientnet with params ModelConfig(width_coefficient=1.2, depth_coefficient=1.4, resolution=300, dropout_rate=0.3, blocks=(BlockConfig(input_filters=32, output_filters=16, kernel_size=3, num_repeat=1, expand_ratio=1, strides=(1, 1), se_ratio=0.25, id_skip=True, fused_conv=False, conv_type='depthwise'), BlockConfig(input_filters=16, output_filters=24, kernel_size=3, num_repeat=2, expand_ratio=6, strides=(2, 2), se_ratio=0.25, id_skip=True, fused_conv=False, conv_type='depthwise'), BlockConfig(input_filters=24, output_filters=40, kernel_size=5, num_repeat=2, expand_ratio=6, strides=(2, 2), se_ratio=0.25, id_skip=True, fused_conv=False, conv_type='depthwise'), BlockConfig(input_filters=40, output_filters=80, kernel_size=3, num_repeat=3, expand_ratio=6, strides=(2, 2), se_ratio=0.25, id_skip=True, fused_conv=False, conv_type='depthwise'), BlockConfig(input_filters=80, output_filters=112, kernel_size=5, num_repeat=3, expand_ratio=6, strides=(1, 1), se_ratio=0.25, id_skip=True, fused_conv=False, conv_type='depthwise'), BlockConfig(input_filters=112, output_filters=192, kernel_size=5, num_repeat=4, expand_ratio=6, strides=(2, 2), se_ratio=0.25, id_skip=True, fused_conv=False, conv_type='depthwise'), BlockConfig(input_filters=192, output_filters=320, kernel_size=3, num_repeat=1, expand_ratio=6, strides=(1, 1), se_ratio=0.25, id_skip=True, fused_conv=False, conv_type='depthwise')), stem_base_filters=32, top_base_filters=1280, activation='simple_swish', batch_norm='default', bn_momentum=0.99, bn_epsilon=0.001, weight_decay=5e-06, drop_connect_rate=0.2, depth_divisor=8, min_depth=None, use_se=True, input_channels=3, num_classes=1000, model_name='efficientnet', rescale_input=False, data_format='channels_last', dtype='float32')\n",
            "I1104 05:16:50.710991 139897450895232 ssd_efficientnet_bifpn_feature_extractor.py:144] EfficientDet EfficientNet backbone version: efficientnet-b4\n",
            "I1104 05:16:50.711100 139897450895232 ssd_efficientnet_bifpn_feature_extractor.py:145] EfficientDet BiFPN num filters: 224\n",
            "I1104 05:16:50.711171 139897450895232 ssd_efficientnet_bifpn_feature_extractor.py:147] EfficientDet BiFPN num iterations: 7\n",
            "I1104 05:16:50.712784 139897450895232 efficientnet_model.py:147] round_filter input=32 output=48\n",
            "I1104 05:16:50.728508 139897450895232 efficientnet_model.py:147] round_filter input=32 output=48\n",
            "I1104 05:16:50.728635 139897450895232 efficientnet_model.py:147] round_filter input=16 output=24\n",
            "I1104 05:16:50.859460 139897450895232 efficientnet_model.py:147] round_filter input=16 output=24\n",
            "I1104 05:16:50.859622 139897450895232 efficientnet_model.py:147] round_filter input=24 output=32\n",
            "I1104 05:16:51.205679 139897450895232 efficientnet_model.py:147] round_filter input=24 output=32\n",
            "I1104 05:16:51.205879 139897450895232 efficientnet_model.py:147] round_filter input=40 output=56\n",
            "I1104 05:16:51.532627 139897450895232 efficientnet_model.py:147] round_filter input=40 output=56\n",
            "I1104 05:16:51.532798 139897450895232 efficientnet_model.py:147] round_filter input=80 output=112\n",
            "I1104 05:16:52.057509 139897450895232 efficientnet_model.py:147] round_filter input=80 output=112\n",
            "I1104 05:16:52.057725 139897450895232 efficientnet_model.py:147] round_filter input=112 output=160\n",
            "I1104 05:16:52.554574 139897450895232 efficientnet_model.py:147] round_filter input=112 output=160\n",
            "I1104 05:16:52.554758 139897450895232 efficientnet_model.py:147] round_filter input=192 output=272\n",
            "I1104 05:16:53.246836 139897450895232 efficientnet_model.py:147] round_filter input=192 output=272\n",
            "I1104 05:16:53.247096 139897450895232 efficientnet_model.py:147] round_filter input=320 output=448\n",
            "I1104 05:16:53.407595 139897450895232 efficientnet_model.py:147] round_filter input=1280 output=1792\n",
            "I1104 05:16:53.446239 139897450895232 efficientnet_model.py:458] Building model efficientnet with params ModelConfig(width_coefficient=1.4, depth_coefficient=1.8, resolution=380, dropout_rate=0.4, blocks=(BlockConfig(input_filters=32, output_filters=16, kernel_size=3, num_repeat=1, expand_ratio=1, strides=(1, 1), se_ratio=0.25, id_skip=True, fused_conv=False, conv_type='depthwise'), BlockConfig(input_filters=16, output_filters=24, kernel_size=3, num_repeat=2, expand_ratio=6, strides=(2, 2), se_ratio=0.25, id_skip=True, fused_conv=False, conv_type='depthwise'), BlockConfig(input_filters=24, output_filters=40, kernel_size=5, num_repeat=2, expand_ratio=6, strides=(2, 2), se_ratio=0.25, id_skip=True, fused_conv=False, conv_type='depthwise'), BlockConfig(input_filters=40, output_filters=80, kernel_size=3, num_repeat=3, expand_ratio=6, strides=(2, 2), se_ratio=0.25, id_skip=True, fused_conv=False, conv_type='depthwise'), BlockConfig(input_filters=80, output_filters=112, kernel_size=5, num_repeat=3, expand_ratio=6, strides=(1, 1), se_ratio=0.25, id_skip=True, fused_conv=False, conv_type='depthwise'), BlockConfig(input_filters=112, output_filters=192, kernel_size=5, num_repeat=4, expand_ratio=6, strides=(2, 2), se_ratio=0.25, id_skip=True, fused_conv=False, conv_type='depthwise'), BlockConfig(input_filters=192, output_filters=320, kernel_size=3, num_repeat=1, expand_ratio=6, strides=(1, 1), se_ratio=0.25, id_skip=True, fused_conv=False, conv_type='depthwise')), stem_base_filters=32, top_base_filters=1280, activation='simple_swish', batch_norm='default', bn_momentum=0.99, bn_epsilon=0.001, weight_decay=5e-06, drop_connect_rate=0.2, depth_divisor=8, min_depth=None, use_se=True, input_channels=3, num_classes=1000, model_name='efficientnet', rescale_input=False, data_format='channels_last', dtype='float32')\n",
            "I1104 05:16:53.531950 139897450895232 ssd_efficientnet_bifpn_feature_extractor.py:144] EfficientDet EfficientNet backbone version: efficientnet-b5\n",
            "I1104 05:16:53.532084 139897450895232 ssd_efficientnet_bifpn_feature_extractor.py:145] EfficientDet BiFPN num filters: 288\n",
            "I1104 05:16:53.532160 139897450895232 ssd_efficientnet_bifpn_feature_extractor.py:147] EfficientDet BiFPN num iterations: 7\n",
            "I1104 05:16:53.533834 139897450895232 efficientnet_model.py:147] round_filter input=32 output=48\n",
            "I1104 05:16:53.548834 139897450895232 efficientnet_model.py:147] round_filter input=32 output=48\n",
            "I1104 05:16:53.548949 139897450895232 efficientnet_model.py:147] round_filter input=16 output=24\n",
            "I1104 05:16:53.737066 139897450895232 efficientnet_model.py:147] round_filter input=16 output=24\n",
            "I1104 05:16:53.737252 139897450895232 efficientnet_model.py:147] round_filter input=24 output=40\n",
            "I1104 05:16:54.147028 139897450895232 efficientnet_model.py:147] round_filter input=24 output=40\n",
            "I1104 05:16:54.147171 139897450895232 efficientnet_model.py:147] round_filter input=40 output=64\n",
            "I1104 05:16:54.784897 139897450895232 efficientnet_model.py:147] round_filter input=40 output=64\n",
            "I1104 05:16:54.785080 139897450895232 efficientnet_model.py:147] round_filter input=80 output=128\n",
            "I1104 05:16:55.400071 139897450895232 efficientnet_model.py:147] round_filter input=80 output=128\n",
            "I1104 05:16:55.400272 139897450895232 efficientnet_model.py:147] round_filter input=112 output=176\n",
            "I1104 05:16:55.956083 139897450895232 efficientnet_model.py:147] round_filter input=112 output=176\n",
            "I1104 05:16:55.956283 139897450895232 efficientnet_model.py:147] round_filter input=192 output=304\n",
            "I1104 05:16:56.714773 139897450895232 efficientnet_model.py:147] round_filter input=192 output=304\n",
            "I1104 05:16:56.715014 139897450895232 efficientnet_model.py:147] round_filter input=320 output=512\n",
            "I1104 05:16:56.989963 139897450895232 efficientnet_model.py:147] round_filter input=1280 output=2048\n",
            "I1104 05:16:57.025407 139897450895232 efficientnet_model.py:458] Building model efficientnet with params ModelConfig(width_coefficient=1.6, depth_coefficient=2.2, resolution=456, dropout_rate=0.4, blocks=(BlockConfig(input_filters=32, output_filters=16, kernel_size=3, num_repeat=1, expand_ratio=1, strides=(1, 1), se_ratio=0.25, id_skip=True, fused_conv=False, conv_type='depthwise'), BlockConfig(input_filters=16, output_filters=24, kernel_size=3, num_repeat=2, expand_ratio=6, strides=(2, 2), se_ratio=0.25, id_skip=True, fused_conv=False, conv_type='depthwise'), BlockConfig(input_filters=24, output_filters=40, kernel_size=5, num_repeat=2, expand_ratio=6, strides=(2, 2), se_ratio=0.25, id_skip=True, fused_conv=False, conv_type='depthwise'), BlockConfig(input_filters=40, output_filters=80, kernel_size=3, num_repeat=3, expand_ratio=6, strides=(2, 2), se_ratio=0.25, id_skip=True, fused_conv=False, conv_type='depthwise'), BlockConfig(input_filters=80, output_filters=112, kernel_size=5, num_repeat=3, expand_ratio=6, strides=(1, 1), se_ratio=0.25, id_skip=True, fused_conv=False, conv_type='depthwise'), BlockConfig(input_filters=112, output_filters=192, kernel_size=5, num_repeat=4, expand_ratio=6, strides=(2, 2), se_ratio=0.25, id_skip=True, fused_conv=False, conv_type='depthwise'), BlockConfig(input_filters=192, output_filters=320, kernel_size=3, num_repeat=1, expand_ratio=6, strides=(1, 1), se_ratio=0.25, id_skip=True, fused_conv=False, conv_type='depthwise')), stem_base_filters=32, top_base_filters=1280, activation='simple_swish', batch_norm='default', bn_momentum=0.99, bn_epsilon=0.001, weight_decay=5e-06, drop_connect_rate=0.2, depth_divisor=8, min_depth=None, use_se=True, input_channels=3, num_classes=1000, model_name='efficientnet', rescale_input=False, data_format='channels_last', dtype='float32')\n",
            "I1104 05:16:57.133402 139897450895232 ssd_efficientnet_bifpn_feature_extractor.py:144] EfficientDet EfficientNet backbone version: efficientnet-b6\n",
            "I1104 05:16:57.133544 139897450895232 ssd_efficientnet_bifpn_feature_extractor.py:145] EfficientDet BiFPN num filters: 384\n",
            "I1104 05:16:57.133646 139897450895232 ssd_efficientnet_bifpn_feature_extractor.py:147] EfficientDet BiFPN num iterations: 8\n",
            "I1104 05:16:57.135650 139897450895232 efficientnet_model.py:147] round_filter input=32 output=56\n",
            "I1104 05:16:57.153904 139897450895232 efficientnet_model.py:147] round_filter input=32 output=56\n",
            "I1104 05:16:57.154016 139897450895232 efficientnet_model.py:147] round_filter input=16 output=32\n",
            "I1104 05:16:57.358761 139897450895232 efficientnet_model.py:147] round_filter input=16 output=32\n",
            "I1104 05:16:57.358912 139897450895232 efficientnet_model.py:147] round_filter input=24 output=40\n",
            "I1104 05:16:57.847997 139897450895232 efficientnet_model.py:147] round_filter input=24 output=40\n",
            "I1104 05:16:57.848181 139897450895232 efficientnet_model.py:147] round_filter input=40 output=72\n",
            "I1104 05:16:58.332523 139897450895232 efficientnet_model.py:147] round_filter input=40 output=72\n",
            "I1104 05:16:58.332739 139897450895232 efficientnet_model.py:147] round_filter input=80 output=144\n",
            "I1104 05:16:58.990077 139897450895232 efficientnet_model.py:147] round_filter input=80 output=144\n",
            "I1104 05:16:58.990271 139897450895232 efficientnet_model.py:147] round_filter input=112 output=200\n",
            "I1104 05:16:59.897396 139897450895232 efficientnet_model.py:147] round_filter input=112 output=200\n",
            "I1104 05:16:59.897586 139897450895232 efficientnet_model.py:147] round_filter input=192 output=344\n",
            "I1104 05:17:00.796554 139897450895232 efficientnet_model.py:147] round_filter input=192 output=344\n",
            "I1104 05:17:00.796726 139897450895232 efficientnet_model.py:147] round_filter input=320 output=576\n",
            "I1104 05:17:01.039631 139897450895232 efficientnet_model.py:147] round_filter input=1280 output=2304\n",
            "I1104 05:17:01.072512 139897450895232 efficientnet_model.py:458] Building model efficientnet with params ModelConfig(width_coefficient=1.8, depth_coefficient=2.6, resolution=528, dropout_rate=0.5, blocks=(BlockConfig(input_filters=32, output_filters=16, kernel_size=3, num_repeat=1, expand_ratio=1, strides=(1, 1), se_ratio=0.25, id_skip=True, fused_conv=False, conv_type='depthwise'), BlockConfig(input_filters=16, output_filters=24, kernel_size=3, num_repeat=2, expand_ratio=6, strides=(2, 2), se_ratio=0.25, id_skip=True, fused_conv=False, conv_type='depthwise'), BlockConfig(input_filters=24, output_filters=40, kernel_size=5, num_repeat=2, expand_ratio=6, strides=(2, 2), se_ratio=0.25, id_skip=True, fused_conv=False, conv_type='depthwise'), BlockConfig(input_filters=40, output_filters=80, kernel_size=3, num_repeat=3, expand_ratio=6, strides=(2, 2), se_ratio=0.25, id_skip=True, fused_conv=False, conv_type='depthwise'), BlockConfig(input_filters=80, output_filters=112, kernel_size=5, num_repeat=3, expand_ratio=6, strides=(1, 1), se_ratio=0.25, id_skip=True, fused_conv=False, conv_type='depthwise'), BlockConfig(input_filters=112, output_filters=192, kernel_size=5, num_repeat=4, expand_ratio=6, strides=(2, 2), se_ratio=0.25, id_skip=True, fused_conv=False, conv_type='depthwise'), BlockConfig(input_filters=192, output_filters=320, kernel_size=3, num_repeat=1, expand_ratio=6, strides=(1, 1), se_ratio=0.25, id_skip=True, fused_conv=False, conv_type='depthwise')), stem_base_filters=32, top_base_filters=1280, activation='simple_swish', batch_norm='default', bn_momentum=0.99, bn_epsilon=0.001, weight_decay=5e-06, drop_connect_rate=0.2, depth_divisor=8, min_depth=None, use_se=True, input_channels=3, num_classes=1000, model_name='efficientnet', rescale_input=False, data_format='channels_last', dtype='float32')\n",
            "I1104 05:17:01.187771 139897450895232 ssd_efficientnet_bifpn_feature_extractor.py:144] EfficientDet EfficientNet backbone version: efficientnet-b7\n",
            "I1104 05:17:01.187929 139897450895232 ssd_efficientnet_bifpn_feature_extractor.py:145] EfficientDet BiFPN num filters: 384\n",
            "I1104 05:17:01.188017 139897450895232 ssd_efficientnet_bifpn_feature_extractor.py:147] EfficientDet BiFPN num iterations: 8\n",
            "I1104 05:17:01.189812 139897450895232 efficientnet_model.py:147] round_filter input=32 output=64\n",
            "I1104 05:17:01.204743 139897450895232 efficientnet_model.py:147] round_filter input=32 output=64\n",
            "I1104 05:17:01.204858 139897450895232 efficientnet_model.py:147] round_filter input=16 output=32\n",
            "I1104 05:17:01.494624 139897450895232 efficientnet_model.py:147] round_filter input=16 output=32\n",
            "I1104 05:17:01.494809 139897450895232 efficientnet_model.py:147] round_filter input=24 output=48\n",
            "I1104 05:17:02.082511 139897450895232 efficientnet_model.py:147] round_filter input=24 output=48\n",
            "I1104 05:17:02.082702 139897450895232 efficientnet_model.py:147] round_filter input=40 output=80\n",
            "I1104 05:17:02.701403 139897450895232 efficientnet_model.py:147] round_filter input=40 output=80\n",
            "I1104 05:17:02.701588 139897450895232 efficientnet_model.py:147] round_filter input=80 output=160\n",
            "I1104 05:17:03.576090 139897450895232 efficientnet_model.py:147] round_filter input=80 output=160\n",
            "I1104 05:17:03.576274 139897450895232 efficientnet_model.py:147] round_filter input=112 output=224\n",
            "I1104 05:17:04.595242 139897450895232 efficientnet_model.py:147] round_filter input=112 output=224\n",
            "I1104 05:17:04.595463 139897450895232 efficientnet_model.py:147] round_filter input=192 output=384\n",
            "I1104 05:17:05.742861 139897450895232 efficientnet_model.py:147] round_filter input=192 output=384\n",
            "I1104 05:17:05.743104 139897450895232 efficientnet_model.py:147] round_filter input=320 output=640\n",
            "I1104 05:17:06.085415 139897450895232 efficientnet_model.py:147] round_filter input=1280 output=2560\n",
            "I1104 05:17:06.124506 139897450895232 efficientnet_model.py:458] Building model efficientnet with params ModelConfig(width_coefficient=2.0, depth_coefficient=3.1, resolution=600, dropout_rate=0.5, blocks=(BlockConfig(input_filters=32, output_filters=16, kernel_size=3, num_repeat=1, expand_ratio=1, strides=(1, 1), se_ratio=0.25, id_skip=True, fused_conv=False, conv_type='depthwise'), BlockConfig(input_filters=16, output_filters=24, kernel_size=3, num_repeat=2, expand_ratio=6, strides=(2, 2), se_ratio=0.25, id_skip=True, fused_conv=False, conv_type='depthwise'), BlockConfig(input_filters=24, output_filters=40, kernel_size=5, num_repeat=2, expand_ratio=6, strides=(2, 2), se_ratio=0.25, id_skip=True, fused_conv=False, conv_type='depthwise'), BlockConfig(input_filters=40, output_filters=80, kernel_size=3, num_repeat=3, expand_ratio=6, strides=(2, 2), se_ratio=0.25, id_skip=True, fused_conv=False, conv_type='depthwise'), BlockConfig(input_filters=80, output_filters=112, kernel_size=5, num_repeat=3, expand_ratio=6, strides=(1, 1), se_ratio=0.25, id_skip=True, fused_conv=False, conv_type='depthwise'), BlockConfig(input_filters=112, output_filters=192, kernel_size=5, num_repeat=4, expand_ratio=6, strides=(2, 2), se_ratio=0.25, id_skip=True, fused_conv=False, conv_type='depthwise'), BlockConfig(input_filters=192, output_filters=320, kernel_size=3, num_repeat=1, expand_ratio=6, strides=(1, 1), se_ratio=0.25, id_skip=True, fused_conv=False, conv_type='depthwise')), stem_base_filters=32, top_base_filters=1280, activation='simple_swish', batch_norm='default', bn_momentum=0.99, bn_epsilon=0.001, weight_decay=5e-06, drop_connect_rate=0.2, depth_divisor=8, min_depth=None, use_se=True, input_channels=3, num_classes=1000, model_name='efficientnet', rescale_input=False, data_format='channels_last', dtype='float32')\n",
            "INFO:tensorflow:time(__main__.ModelBuilderTF2Test.test_create_ssd_models_from_config): 23.87s\n",
            "I1104 05:17:06.264675 139897450895232 test_util.py:2189] time(__main__.ModelBuilderTF2Test.test_create_ssd_models_from_config): 23.87s\n",
            "[       OK ] ModelBuilderTF2Test.test_create_ssd_models_from_config\n",
            "[ RUN      ] ModelBuilderTF2Test.test_invalid_faster_rcnn_batchnorm_update\n",
            "INFO:tensorflow:time(__main__.ModelBuilderTF2Test.test_invalid_faster_rcnn_batchnorm_update): 0.0s\n",
            "I1104 05:17:06.271867 139897450895232 test_util.py:2189] time(__main__.ModelBuilderTF2Test.test_invalid_faster_rcnn_batchnorm_update): 0.0s\n",
            "[       OK ] ModelBuilderTF2Test.test_invalid_faster_rcnn_batchnorm_update\n",
            "[ RUN      ] ModelBuilderTF2Test.test_invalid_first_stage_nms_iou_threshold\n",
            "INFO:tensorflow:time(__main__.ModelBuilderTF2Test.test_invalid_first_stage_nms_iou_threshold): 0.0s\n",
            "I1104 05:17:06.273739 139897450895232 test_util.py:2189] time(__main__.ModelBuilderTF2Test.test_invalid_first_stage_nms_iou_threshold): 0.0s\n",
            "[       OK ] ModelBuilderTF2Test.test_invalid_first_stage_nms_iou_threshold\n",
            "[ RUN      ] ModelBuilderTF2Test.test_invalid_model_config_proto\n",
            "INFO:tensorflow:time(__main__.ModelBuilderTF2Test.test_invalid_model_config_proto): 0.0s\n",
            "I1104 05:17:06.274366 139897450895232 test_util.py:2189] time(__main__.ModelBuilderTF2Test.test_invalid_model_config_proto): 0.0s\n",
            "[       OK ] ModelBuilderTF2Test.test_invalid_model_config_proto\n",
            "[ RUN      ] ModelBuilderTF2Test.test_invalid_second_stage_batch_size\n",
            "INFO:tensorflow:time(__main__.ModelBuilderTF2Test.test_invalid_second_stage_batch_size): 0.0s\n",
            "I1104 05:17:06.276016 139897450895232 test_util.py:2189] time(__main__.ModelBuilderTF2Test.test_invalid_second_stage_batch_size): 0.0s\n",
            "[       OK ] ModelBuilderTF2Test.test_invalid_second_stage_batch_size\n",
            "[ RUN      ] ModelBuilderTF2Test.test_session\n",
            "[  SKIPPED ] ModelBuilderTF2Test.test_session\n",
            "[ RUN      ] ModelBuilderTF2Test.test_unknown_faster_rcnn_feature_extractor\n",
            "INFO:tensorflow:time(__main__.ModelBuilderTF2Test.test_unknown_faster_rcnn_feature_extractor): 0.0s\n",
            "I1104 05:17:06.277470 139897450895232 test_util.py:2189] time(__main__.ModelBuilderTF2Test.test_unknown_faster_rcnn_feature_extractor): 0.0s\n",
            "[       OK ] ModelBuilderTF2Test.test_unknown_faster_rcnn_feature_extractor\n",
            "[ RUN      ] ModelBuilderTF2Test.test_unknown_meta_architecture\n",
            "INFO:tensorflow:time(__main__.ModelBuilderTF2Test.test_unknown_meta_architecture): 0.0s\n",
            "I1104 05:17:06.277955 139897450895232 test_util.py:2189] time(__main__.ModelBuilderTF2Test.test_unknown_meta_architecture): 0.0s\n",
            "[       OK ] ModelBuilderTF2Test.test_unknown_meta_architecture\n",
            "[ RUN      ] ModelBuilderTF2Test.test_unknown_ssd_feature_extractor\n",
            "INFO:tensorflow:time(__main__.ModelBuilderTF2Test.test_unknown_ssd_feature_extractor): 0.0s\n",
            "I1104 05:17:06.279066 139897450895232 test_util.py:2189] time(__main__.ModelBuilderTF2Test.test_unknown_ssd_feature_extractor): 0.0s\n",
            "[       OK ] ModelBuilderTF2Test.test_unknown_ssd_feature_extractor\n",
            "----------------------------------------------------------------------\n",
            "Ran 20 tests in 31.113s\n",
            "\n",
            "OK (skipped=1)\n"
          ]
        }
      ]
    },
    {
      "cell_type": "markdown",
      "metadata": {
        "id": "PSDHRhYx2e4t"
      },
      "source": [
        "# License Plate Data"
      ]
    },
    {
      "cell_type": "markdown",
      "metadata": {
        "id": "aoTsNmOO2k90"
      },
      "source": [
        ""
      ]
    },
    {
      "cell_type": "code",
      "metadata": {
        "id": "HVClLI6EAmB_"
      },
      "source": [
        "!tar -xvf carplate_data.tar.gz"
      ],
      "execution_count": null,
      "outputs": []
    },
    {
      "cell_type": "markdown",
      "metadata": {
        "id": "B0lCvhuu5WQU"
      },
      "source": [
        "# License Plate 학습을 위한 데이터들 다운로드"
      ]
    },
    {
      "cell_type": "markdown",
      "metadata": {
        "id": "_HqnBJou5cVL"
      },
      "source": [
        "# Reference : \n",
        "1. (TFRecord 변환)\n",
        "2. (License Plate label map)"
      ]
    },
    {
      "cell_type": "code",
      "metadata": {
        "colab": {
          "base_uri": "https://localhost:8080/"
        },
        "id": "Z5JG7uuc5hS0",
        "outputId": "1d9fd9ed-f475-473f-80e9-de93a4ba8231"
      },
      "source": [
        "!wget https://gist.githubusercontent.com/solaris33/d44e62f93daf0e772cbb6d62229344ad/raw/0cdf601cbfeb49dc279ddccb664f7d309349ad44/create_carplate_tf_record.py -O create_carplate_tf_record.py"
      ],
      "execution_count": null,
      "outputs": [
        {
          "output_type": "stream",
          "name": "stdout",
          "text": [
            "--2021-11-04 02:35:39--  https://gist.githubusercontent.com/solaris33/d44e62f93daf0e772cbb6d62229344ad/raw/0cdf601cbfeb49dc279ddccb664f7d309349ad44/create_carplate_tf_record.py\n",
            "Resolving gist.githubusercontent.com (gist.githubusercontent.com)... 185.199.108.133, 185.199.109.133, 185.199.110.133, ...\n",
            "Connecting to gist.githubusercontent.com (gist.githubusercontent.com)|185.199.108.133|:443... connected.\n",
            "HTTP request sent, awaiting response... 200 OK\n",
            "Length: 8536 (8.3K) [text/plain]\n",
            "Saving to: ‘create_carplate_tf_record.py’\n",
            "\n",
            "\r          create_ca   0%[                    ]       0  --.-KB/s               \rcreate_carplate_tf_ 100%[===================>]   8.34K  --.-KB/s    in 0.001s  \n",
            "\n",
            "2021-11-04 02:35:39 (8.30 MB/s) - ‘create_carplate_tf_record.py’ saved [8536/8536]\n",
            "\n"
          ]
        }
      ]
    },
    {
      "cell_type": "code",
      "metadata": {
        "colab": {
          "base_uri": "https://localhost:8080/"
        },
        "id": "B_KMBGQJAqSB",
        "outputId": "6c31c71b-ce50-44ed-fa3f-59c139e64d09"
      },
      "source": [
        "!python create_carplate_tf_record.py \\\n",
        "    --label_map_path=object_detection/data/licenseplate_label_map.pbtxt \\\n",
        "    --data_dir='carplate_data' \\\n",
        "    --output_dir= 'pwd'"
      ],
      "execution_count": null,
      "outputs": [
        {
          "output_type": "stream",
          "name": "stdout",
          "text": [
            "2021-11-04 05:17:55.239130: I tensorflow/stream_executor/cuda/cuda_gpu_executor.cc:937] successful NUMA node read from SysFS had negative value (-1), but there must be at least one NUMA node, so returning NUMA node zero\n",
            "2021-11-04 05:17:55.283632: I tensorflow/stream_executor/cuda/cuda_gpu_executor.cc:937] successful NUMA node read from SysFS had negative value (-1), but there must be at least one NUMA node, so returning NUMA node zero\n",
            "2021-11-04 05:17:55.284564: I tensorflow/stream_executor/cuda/cuda_gpu_executor.cc:937] successful NUMA node read from SysFS had negative value (-1), but there must be at least one NUMA node, so returning NUMA node zero\n",
            "I1104 05:17:55.857477 139916146571136 create_carplate_tf_record.py:214] Reading from carplate dataset.\n",
            "I1104 05:17:55.860940 139916146571136 create_carplate_tf_record.py:229] 155 training and 67 validation examples.\n",
            "I1104 05:18:01.403948 139916146571136 create_carplate_tf_record.py:160] On image 0 of 155\n",
            "I1104 05:19:42.917833 139916146571136 create_carplate_tf_record.py:160] On image 100 of 155\n",
            "I1104 05:20:42.464859 139916146571136 create_carplate_tf_record.py:160] On image 0 of 67\n"
          ]
        }
      ]
    },
    {
      "cell_type": "markdown",
      "metadata": {
        "id": "AlfM0f5m8RFB"
      },
      "source": [
        "# Training을 위한 config 파일 다운로드\n",
        "## Reference : https://gist.github.com/solaris33/4ff0a83591d2dbe23fe23bbd9e3b57ff"
      ]
    },
    {
      "cell_type": "code",
      "metadata": {
        "id": "mdlGBsk-AtO1",
        "colab": {
          "base_uri": "https://localhost:8080/"
        },
        "outputId": "1e117a0a-9656-45f6-e006-5462e4bcceca"
      },
      "source": [
        "!wget https://gist.githubusercontent.com/solaris33/4ff0a83591d2dbe23fe23bbd9e3b57ff/raw/4bd55e819f9c1e19d02eaa015d04ec65ab562caf/centernet_hourglass104_512x512_licenseplate_for_share.config -O centernet_hourglass104_512x512_licenseplate_for_share.config"
      ],
      "execution_count": null,
      "outputs": [
        {
          "output_type": "stream",
          "name": "stdout",
          "text": [
            "--2021-11-03 08:11:18--  https://gist.githubusercontent.com/solaris33/4ff0a83591d2dbe23fe23bbd9e3b57ff/raw/4bd55e819f9c1e19d02eaa015d04ec65ab562caf/centernet_hourglass104_512x512_licenseplate_for_share.config\n",
            "Resolving gist.githubusercontent.com (gist.githubusercontent.com)... 185.199.110.133, 185.199.111.133, 185.199.108.133, ...\n",
            "Connecting to gist.githubusercontent.com (gist.githubusercontent.com)|185.199.110.133|:443... connected.\n",
            "HTTP request sent, awaiting response... 200 OK\n",
            "Length: 2996 (2.9K) [text/plain]\n",
            "Saving to: ‘centernet_hourglass104_512x512_licenseplate_for_share.config’\n",
            "\n",
            "\r          centernet   0%[                    ]       0  --.-KB/s               \rcenternet_hourglass 100%[===================>]   2.93K  --.-KB/s    in 0s      \n",
            "\n",
            "2021-11-03 08:11:18 (10.0 MB/s) - ‘centernet_hourglass104_512x512_licenseplate_for_share.config’ saved [2996/2996]\n",
            "\n"
          ]
        }
      ]
    },
    {
      "cell_type": "code",
      "metadata": {
        "colab": {
          "base_uri": "https://localhost:8080/"
        },
        "id": "3diXYqgvBbDM",
        "outputId": "68b02402-d120-4631-ea51-ef2e0b716024"
      },
      "source": [
        "!pwd"
      ],
      "execution_count": null,
      "outputs": [
        {
          "output_type": "stream",
          "name": "stdout",
          "text": [
            "/content/drive/My Drive/models/research\n"
          ]
        }
      ]
    },
    {
      "cell_type": "code",
      "metadata": {
        "id": "fSX4HCfzAwvp"
      },
      "source": [
        "# From the tensorflow/models/research/ directory\n",
        "PIPELINE_CONFIG_PATH=\"centernet_hourglass104_512x512_licenseplate_for_share.config\"\n",
        "MODEL_DIR=\"./saved_result_licenseplate\""
      ],
      "execution_count": null,
      "outputs": []
    },
    {
      "cell_type": "code",
      "metadata": {
        "id": "iCXpsrVbD-Cn",
        "colab": {
          "base_uri": "https://localhost:8080/"
        },
        "outputId": "2b25b36c-2982-43c3-aa7e-ecd059cde35f"
      },
      "source": [
        "!python -m pip install tensorflow==2.4.0"
      ],
      "execution_count": null,
      "outputs": [
        {
          "output_type": "stream",
          "name": "stdout",
          "text": [
            "Collecting tensorflow==2.4.0\n",
            "  Downloading tensorflow-2.4.0-cp37-cp37m-manylinux2010_x86_64.whl (394.7 MB)\n",
            "     |████████████████████████████████| 394.7 MB 10 kB/s              \n",
            "\u001b[?25hRequirement already satisfied: tensorboard~=2.4 in /usr/local/lib/python3.7/dist-packages (from tensorflow==2.4.0) (2.6.0)\n",
            "Requirement already satisfied: absl-py~=0.10 in /usr/local/lib/python3.7/dist-packages (from tensorflow==2.4.0) (0.12.0)\n",
            "Requirement already satisfied: termcolor~=1.1.0 in /usr/local/lib/python3.7/dist-packages (from tensorflow==2.4.0) (1.1.0)\n",
            "Requirement already satisfied: keras-preprocessing~=1.1.2 in /usr/local/lib/python3.7/dist-packages (from tensorflow==2.4.0) (1.1.2)\n",
            "Requirement already satisfied: opt-einsum~=3.3.0 in /usr/local/lib/python3.7/dist-packages (from tensorflow==2.4.0) (3.3.0)\n",
            "Requirement already satisfied: astunparse~=1.6.3 in /usr/local/lib/python3.7/dist-packages (from tensorflow==2.4.0) (1.6.3)\n",
            "Requirement already satisfied: numpy~=1.19.2 in /usr/local/lib/python3.7/dist-packages (from tensorflow==2.4.0) (1.19.5)\n",
            "Collecting h5py~=2.10.0\n",
            "  Downloading h5py-2.10.0-cp37-cp37m-manylinux1_x86_64.whl (2.9 MB)\n",
            "     |████████████████████████████████| 2.9 MB 53.3 MB/s            \n",
            "\u001b[?25hCollecting gast==0.3.3\n",
            "  Downloading gast-0.3.3-py2.py3-none-any.whl (9.7 kB)\n",
            "Requirement already satisfied: typing-extensions~=3.7.4 in /usr/local/lib/python3.7/dist-packages (from tensorflow==2.4.0) (3.7.4.3)\n",
            "Requirement already satisfied: wheel~=0.35 in /usr/local/lib/python3.7/dist-packages (from tensorflow==2.4.0) (0.37.0)\n",
            "Collecting tensorflow-estimator<2.5.0,>=2.4.0rc0\n",
            "  Downloading tensorflow_estimator-2.4.0-py2.py3-none-any.whl (462 kB)\n",
            "     |████████████████████████████████| 462 kB 63.4 MB/s            \n",
            "\u001b[?25hRequirement already satisfied: wrapt~=1.12.1 in /usr/local/lib/python3.7/dist-packages (from tensorflow==2.4.0) (1.12.1)\n",
            "Requirement already satisfied: google-pasta~=0.2 in /usr/local/lib/python3.7/dist-packages (from tensorflow==2.4.0) (0.2.0)\n",
            "Collecting grpcio~=1.32.0\n",
            "  Downloading grpcio-1.32.0-cp37-cp37m-manylinux2014_x86_64.whl (3.8 MB)\n",
            "     |████████████████████████████████| 3.8 MB 39.5 MB/s            \n",
            "\u001b[?25hRequirement already satisfied: protobuf>=3.9.2 in /usr/local/lib/python3.7/dist-packages (from tensorflow==2.4.0) (3.17.3)\n",
            "Requirement already satisfied: six~=1.15.0 in /usr/local/lib/python3.7/dist-packages (from tensorflow==2.4.0) (1.15.0)\n",
            "Requirement already satisfied: flatbuffers~=1.12.0 in /usr/local/lib/python3.7/dist-packages (from tensorflow==2.4.0) (1.12)\n",
            "Requirement already satisfied: werkzeug>=0.11.15 in /usr/local/lib/python3.7/dist-packages (from tensorboard~=2.4->tensorflow==2.4.0) (1.0.1)\n",
            "Requirement already satisfied: setuptools>=41.0.0 in /usr/local/lib/python3.7/dist-packages (from tensorboard~=2.4->tensorflow==2.4.0) (57.4.0)\n",
            "Requirement already satisfied: markdown>=2.6.8 in /usr/local/lib/python3.7/dist-packages (from tensorboard~=2.4->tensorflow==2.4.0) (3.3.4)\n",
            "Requirement already satisfied: google-auth-oauthlib<0.5,>=0.4.1 in /usr/local/lib/python3.7/dist-packages (from tensorboard~=2.4->tensorflow==2.4.0) (0.4.6)\n",
            "Requirement already satisfied: tensorboard-plugin-wit>=1.6.0 in /usr/local/lib/python3.7/dist-packages (from tensorboard~=2.4->tensorflow==2.4.0) (1.8.0)\n",
            "Requirement already satisfied: google-auth<2,>=1.6.3 in /usr/local/lib/python3.7/dist-packages (from tensorboard~=2.4->tensorflow==2.4.0) (1.35.0)\n",
            "Requirement already satisfied: requests<3,>=2.21.0 in /usr/local/lib/python3.7/dist-packages (from tensorboard~=2.4->tensorflow==2.4.0) (2.26.0)\n",
            "Requirement already satisfied: tensorboard-data-server<0.7.0,>=0.6.0 in /usr/local/lib/python3.7/dist-packages (from tensorboard~=2.4->tensorflow==2.4.0) (0.6.1)\n",
            "Requirement already satisfied: cachetools<5.0,>=2.0.0 in /usr/local/lib/python3.7/dist-packages (from google-auth<2,>=1.6.3->tensorboard~=2.4->tensorflow==2.4.0) (4.2.4)\n",
            "Requirement already satisfied: rsa<5,>=3.1.4 in /usr/local/lib/python3.7/dist-packages (from google-auth<2,>=1.6.3->tensorboard~=2.4->tensorflow==2.4.0) (4.7.2)\n",
            "Requirement already satisfied: pyasn1-modules>=0.2.1 in /usr/local/lib/python3.7/dist-packages (from google-auth<2,>=1.6.3->tensorboard~=2.4->tensorflow==2.4.0) (0.2.8)\n",
            "Requirement already satisfied: requests-oauthlib>=0.7.0 in /usr/local/lib/python3.7/dist-packages (from google-auth-oauthlib<0.5,>=0.4.1->tensorboard~=2.4->tensorflow==2.4.0) (1.3.0)\n",
            "Requirement already satisfied: importlib-metadata in /usr/local/lib/python3.7/dist-packages (from markdown>=2.6.8->tensorboard~=2.4->tensorflow==2.4.0) (4.8.1)\n",
            "Requirement already satisfied: certifi>=2017.4.17 in /usr/local/lib/python3.7/dist-packages (from requests<3,>=2.21.0->tensorboard~=2.4->tensorflow==2.4.0) (2021.5.30)\n",
            "Requirement already satisfied: urllib3<1.27,>=1.21.1 in /usr/local/lib/python3.7/dist-packages (from requests<3,>=2.21.0->tensorboard~=2.4->tensorflow==2.4.0) (1.24.3)\n",
            "Requirement already satisfied: idna<4,>=2.5 in /usr/local/lib/python3.7/dist-packages (from requests<3,>=2.21.0->tensorboard~=2.4->tensorflow==2.4.0) (2.10)\n",
            "Requirement already satisfied: charset-normalizer~=2.0.0 in /usr/local/lib/python3.7/dist-packages (from requests<3,>=2.21.0->tensorboard~=2.4->tensorflow==2.4.0) (2.0.7)\n",
            "Requirement already satisfied: pyasn1<0.5.0,>=0.4.6 in /usr/local/lib/python3.7/dist-packages (from pyasn1-modules>=0.2.1->google-auth<2,>=1.6.3->tensorboard~=2.4->tensorflow==2.4.0) (0.4.8)\n",
            "Requirement already satisfied: oauthlib>=3.0.0 in /usr/local/lib/python3.7/dist-packages (from requests-oauthlib>=0.7.0->google-auth-oauthlib<0.5,>=0.4.1->tensorboard~=2.4->tensorflow==2.4.0) (3.1.1)\n",
            "Requirement already satisfied: zipp>=0.5 in /usr/local/lib/python3.7/dist-packages (from importlib-metadata->markdown>=2.6.8->tensorboard~=2.4->tensorflow==2.4.0) (3.6.0)\n",
            "Installing collected packages: grpcio, tensorflow-estimator, h5py, gast, tensorflow\n",
            "  Attempting uninstall: grpcio\n",
            "    Found existing installation: grpcio 1.41.0\n",
            "    Uninstalling grpcio-1.41.0:\n",
            "      Successfully uninstalled grpcio-1.41.0\n",
            "  Attempting uninstall: tensorflow-estimator\n",
            "    Found existing installation: tensorflow-estimator 2.6.0\n",
            "    Uninstalling tensorflow-estimator-2.6.0:\n",
            "      Successfully uninstalled tensorflow-estimator-2.6.0\n",
            "  Attempting uninstall: h5py\n",
            "    Found existing installation: h5py 3.1.0\n",
            "    Uninstalling h5py-3.1.0:\n",
            "      Successfully uninstalled h5py-3.1.0\n",
            "  Attempting uninstall: gast\n",
            "    Found existing installation: gast 0.4.0\n",
            "    Uninstalling gast-0.4.0:\n",
            "      Successfully uninstalled gast-0.4.0\n",
            "  Attempting uninstall: tensorflow\n",
            "    Found existing installation: tensorflow 2.6.0\n",
            "    Uninstalling tensorflow-2.6.0:\n",
            "      Successfully uninstalled tensorflow-2.6.0\n",
            "\u001b[31mERROR: pip's dependency resolver does not currently take into account all the packages that are installed. This behaviour is the source of the following dependency conflicts.\n",
            "tf-models-official 2.6.0 requires tensorflow>=2.5.0, but you have tensorflow 2.4.0 which is incompatible.\n",
            "tensorflow-text 2.6.0 requires tensorflow<2.7,>=2.6.0, but you have tensorflow 2.4.0 which is incompatible.\u001b[0m\n",
            "Successfully installed gast-0.3.3 grpcio-1.32.0 h5py-2.10.0 tensorflow-2.4.0 tensorflow-estimator-2.4.0\n",
            "\u001b[33mWARNING: Running pip as the 'root' user can result in broken permissions and conflicting behaviour with the system package manager. It is recommended to use a virtual environment instead: https://pip.pypa.io/warnings/venv\u001b[0m\n"
          ]
        }
      ]
    },
    {
      "cell_type": "code",
      "metadata": {
        "colab": {
          "base_uri": "https://localhost:8080/",
          "height": 35
        },
        "id": "AOnibp5mZSki",
        "outputId": "21667d3b-ab58-4199-c3a3-93d3d5e372da"
      },
      "source": [
        "import tensorflow as tf\n",
        "tf.__version__"
      ],
      "execution_count": null,
      "outputs": [
        {
          "output_type": "execute_result",
          "data": {
            "application/vnd.google.colaboratory.intrinsic+json": {
              "type": "string"
            },
            "text/plain": [
              "'2.4.0'"
            ]
          },
          "metadata": {},
          "execution_count": 30
        }
      ]
    },
    {
      "cell_type": "code",
      "metadata": {
        "id": "uFXrFMTGkPKF"
      },
      "source": [
        "# pip install tensorflow-object-detection-api  << 얘는 tf 1 버전으로 \n",
        "\n",
        "# 위에서는 tf2로 모델 cp 해줬는데!!"
      ],
      "execution_count": null,
      "outputs": []
    },
    {
      "cell_type": "code",
      "metadata": {
        "colab": {
          "base_uri": "https://localhost:8080/"
        },
        "id": "uIpl_QXJB3Wj",
        "outputId": "e2a01869-4e8c-46d4-bad9-ba2f86652bbe"
      },
      "source": [
        "!python object_detection/model_main_tf2.py \\\n",
        "    --pipeline_config_path={PIPELINE_CONFIG_PATH} \\\n",
        "    --model_dir={MODEL_DIR} \\\n",
        "    --alsologtostderr"
      ],
      "execution_count": null,
      "outputs": [
        {
          "output_type": "stream",
          "name": "stdout",
          "text": [
            "2021-11-04 05:23:30.097509: I tensorflow/stream_executor/platform/default/dso_loader.cc:49] Successfully opened dynamic library libcudart.so.11.0\n",
            "2021-11-04 05:23:32.868415: I tensorflow/compiler/jit/xla_cpu_device.cc:41] Not creating XLA devices, tf_xla_enable_xla_devices not set\n",
            "2021-11-04 05:23:32.869310: I tensorflow/stream_executor/platform/default/dso_loader.cc:49] Successfully opened dynamic library libcuda.so.1\n",
            "2021-11-04 05:23:32.884270: I tensorflow/stream_executor/cuda/cuda_gpu_executor.cc:941] successful NUMA node read from SysFS had negative value (-1), but there must be at least one NUMA node, so returning NUMA node zero\n",
            "2021-11-04 05:23:32.885162: I tensorflow/core/common_runtime/gpu/gpu_device.cc:1720] Found device 0 with properties: \n",
            "pciBusID: 0000:00:04.0 name: Tesla P100-PCIE-16GB computeCapability: 6.0\n",
            "coreClock: 1.3285GHz coreCount: 56 deviceMemorySize: 15.90GiB deviceMemoryBandwidth: 681.88GiB/s\n",
            "2021-11-04 05:23:32.885195: I tensorflow/stream_executor/platform/default/dso_loader.cc:49] Successfully opened dynamic library libcudart.so.11.0\n",
            "2021-11-04 05:23:32.888557: I tensorflow/stream_executor/platform/default/dso_loader.cc:49] Successfully opened dynamic library libcublas.so.11\n",
            "2021-11-04 05:23:32.888620: I tensorflow/stream_executor/platform/default/dso_loader.cc:49] Successfully opened dynamic library libcublasLt.so.11\n",
            "2021-11-04 05:23:32.889789: I tensorflow/stream_executor/platform/default/dso_loader.cc:49] Successfully opened dynamic library libcufft.so.10\n",
            "2021-11-04 05:23:32.890074: I tensorflow/stream_executor/platform/default/dso_loader.cc:49] Successfully opened dynamic library libcurand.so.10\n",
            "2021-11-04 05:23:33.220468: I tensorflow/stream_executor/platform/default/dso_loader.cc:49] Successfully opened dynamic library libcusolver.so.10\n",
            "2021-11-04 05:23:33.221489: I tensorflow/stream_executor/platform/default/dso_loader.cc:49] Successfully opened dynamic library libcusparse.so.11\n",
            "2021-11-04 05:23:33.221729: I tensorflow/stream_executor/platform/default/dso_loader.cc:49] Successfully opened dynamic library libcudnn.so.8\n",
            "2021-11-04 05:23:33.221871: I tensorflow/stream_executor/cuda/cuda_gpu_executor.cc:941] successful NUMA node read from SysFS had negative value (-1), but there must be at least one NUMA node, so returning NUMA node zero\n",
            "2021-11-04 05:23:33.222871: I tensorflow/stream_executor/cuda/cuda_gpu_executor.cc:941] successful NUMA node read from SysFS had negative value (-1), but there must be at least one NUMA node, so returning NUMA node zero\n",
            "2021-11-04 05:23:33.223679: I tensorflow/core/common_runtime/gpu/gpu_device.cc:1862] Adding visible gpu devices: 0\n",
            "2021-11-04 05:23:33.224491: I tensorflow/compiler/jit/xla_gpu_device.cc:99] Not creating XLA devices, tf_xla_enable_xla_devices not set\n",
            "2021-11-04 05:23:33.224618: I tensorflow/stream_executor/cuda/cuda_gpu_executor.cc:941] successful NUMA node read from SysFS had negative value (-1), but there must be at least one NUMA node, so returning NUMA node zero\n",
            "2021-11-04 05:23:33.225514: I tensorflow/core/common_runtime/gpu/gpu_device.cc:1720] Found device 0 with properties: \n",
            "pciBusID: 0000:00:04.0 name: Tesla P100-PCIE-16GB computeCapability: 6.0\n",
            "coreClock: 1.3285GHz coreCount: 56 deviceMemorySize: 15.90GiB deviceMemoryBandwidth: 681.88GiB/s\n",
            "2021-11-04 05:23:33.225561: I tensorflow/stream_executor/platform/default/dso_loader.cc:49] Successfully opened dynamic library libcudart.so.11.0\n",
            "2021-11-04 05:23:33.225597: I tensorflow/stream_executor/platform/default/dso_loader.cc:49] Successfully opened dynamic library libcublas.so.11\n",
            "2021-11-04 05:23:33.225632: I tensorflow/stream_executor/platform/default/dso_loader.cc:49] Successfully opened dynamic library libcublasLt.so.11\n",
            "2021-11-04 05:23:33.225666: I tensorflow/stream_executor/platform/default/dso_loader.cc:49] Successfully opened dynamic library libcufft.so.10\n",
            "2021-11-04 05:23:33.225690: I tensorflow/stream_executor/platform/default/dso_loader.cc:49] Successfully opened dynamic library libcurand.so.10\n",
            "2021-11-04 05:23:33.225715: I tensorflow/stream_executor/platform/default/dso_loader.cc:49] Successfully opened dynamic library libcusolver.so.10\n",
            "2021-11-04 05:23:33.225775: I tensorflow/stream_executor/platform/default/dso_loader.cc:49] Successfully opened dynamic library libcusparse.so.11\n",
            "2021-11-04 05:23:33.225803: I tensorflow/stream_executor/platform/default/dso_loader.cc:49] Successfully opened dynamic library libcudnn.so.8\n",
            "2021-11-04 05:23:33.225899: I tensorflow/stream_executor/cuda/cuda_gpu_executor.cc:941] successful NUMA node read from SysFS had negative value (-1), but there must be at least one NUMA node, so returning NUMA node zero\n",
            "2021-11-04 05:23:33.226735: I tensorflow/stream_executor/cuda/cuda_gpu_executor.cc:941] successful NUMA node read from SysFS had negative value (-1), but there must be at least one NUMA node, so returning NUMA node zero\n",
            "2021-11-04 05:23:33.227457: I tensorflow/core/common_runtime/gpu/gpu_device.cc:1862] Adding visible gpu devices: 0\n",
            "2021-11-04 05:23:33.227513: I tensorflow/stream_executor/platform/default/dso_loader.cc:49] Successfully opened dynamic library libcudart.so.11.0\n",
            "2021-11-04 05:23:33.897244: I tensorflow/core/common_runtime/gpu/gpu_device.cc:1261] Device interconnect StreamExecutor with strength 1 edge matrix:\n",
            "2021-11-04 05:23:33.897351: I tensorflow/core/common_runtime/gpu/gpu_device.cc:1267]      0 \n",
            "2021-11-04 05:23:33.897377: I tensorflow/core/common_runtime/gpu/gpu_device.cc:1280] 0:   N \n",
            "2021-11-04 05:23:33.897656: I tensorflow/stream_executor/cuda/cuda_gpu_executor.cc:941] successful NUMA node read from SysFS had negative value (-1), but there must be at least one NUMA node, so returning NUMA node zero\n",
            "2021-11-04 05:23:33.898550: I tensorflow/stream_executor/cuda/cuda_gpu_executor.cc:941] successful NUMA node read from SysFS had negative value (-1), but there must be at least one NUMA node, so returning NUMA node zero\n",
            "2021-11-04 05:23:33.899382: I tensorflow/stream_executor/cuda/cuda_gpu_executor.cc:941] successful NUMA node read from SysFS had negative value (-1), but there must be at least one NUMA node, so returning NUMA node zero\n",
            "2021-11-04 05:23:33.900155: W tensorflow/core/common_runtime/gpu/gpu_bfc_allocator.cc:39] Overriding allow_growth setting because the TF_FORCE_GPU_ALLOW_GROWTH environment variable is set. Original config value was 0.\n",
            "2021-11-04 05:23:33.900219: I tensorflow/core/common_runtime/gpu/gpu_device.cc:1406] Created TensorFlow device (/job:localhost/replica:0/task:0/device:GPU:0 with 14957 MB memory) -> physical GPU (device: 0, name: Tesla P100-PCIE-16GB, pci bus id: 0000:00:04.0, compute capability: 6.0)\n",
            "INFO:tensorflow:Using MirroredStrategy with devices ('/job:localhost/replica:0/task:0/device:GPU:0',)\n",
            "I1104 05:23:33.903183 140254089389952 mirrored_strategy.py:350] Using MirroredStrategy with devices ('/job:localhost/replica:0/task:0/device:GPU:0',)\n",
            "INFO:tensorflow:Maybe overwriting train_steps: None\n",
            "I1104 05:23:34.383509 140254089389952 config_util.py:552] Maybe overwriting train_steps: None\n",
            "INFO:tensorflow:Maybe overwriting use_bfloat16: False\n",
            "I1104 05:23:34.383688 140254089389952 config_util.py:552] Maybe overwriting use_bfloat16: False\n",
            "WARNING:tensorflow:From /usr/local/lib/python3.7/dist-packages/object_detection/model_lib_v2.py:531: StrategyBase.experimental_distribute_datasets_from_function (from tensorflow.python.distribute.distribute_lib) is deprecated and will be removed in a future version.\n",
            "Instructions for updating:\n",
            "rename to distribute_datasets_from_function\n",
            "W1104 05:23:35.216289 140254089389952 deprecation.py:339] From /usr/local/lib/python3.7/dist-packages/object_detection/model_lib_v2.py:531: StrategyBase.experimental_distribute_datasets_from_function (from tensorflow.python.distribute.distribute_lib) is deprecated and will be removed in a future version.\n",
            "Instructions for updating:\n",
            "rename to distribute_datasets_from_function\n",
            "INFO:tensorflow:Reading unweighted datasets: ['carplate_train.record-?????-of-00010']\n",
            "I1104 05:23:35.224624 140254089389952 dataset_builder.py:163] Reading unweighted datasets: ['carplate_train.record-?????-of-00010']\n",
            "INFO:tensorflow:Reading record datasets for input file: ['carplate_train.record-?????-of-00010']\n",
            "I1104 05:23:35.228120 140254089389952 dataset_builder.py:80] Reading record datasets for input file: ['carplate_train.record-?????-of-00010']\n",
            "INFO:tensorflow:Number of filenames to read: 10\n",
            "I1104 05:23:35.228278 140254089389952 dataset_builder.py:81] Number of filenames to read: 10\n",
            "WARNING:tensorflow:num_readers has been reduced to 10 to match input file shards.\n",
            "W1104 05:23:35.228420 140254089389952 dataset_builder.py:88] num_readers has been reduced to 10 to match input file shards.\n",
            "WARNING:tensorflow:From /usr/local/lib/python3.7/dist-packages/object_detection/builders/dataset_builder.py:105: parallel_interleave (from tensorflow.python.data.experimental.ops.interleave_ops) is deprecated and will be removed in a future version.\n",
            "Instructions for updating:\n",
            "Use `tf.data.Dataset.interleave(map_func, cycle_length, block_length, num_parallel_calls=tf.data.AUTOTUNE)` instead. If sloppy execution is desired, use `tf.data.Options.experimental_deterministic`.\n",
            "W1104 05:23:35.230940 140254089389952 deprecation.py:339] From /usr/local/lib/python3.7/dist-packages/object_detection/builders/dataset_builder.py:105: parallel_interleave (from tensorflow.python.data.experimental.ops.interleave_ops) is deprecated and will be removed in a future version.\n",
            "Instructions for updating:\n",
            "Use `tf.data.Dataset.interleave(map_func, cycle_length, block_length, num_parallel_calls=tf.data.AUTOTUNE)` instead. If sloppy execution is desired, use `tf.data.Options.experimental_deterministic`.\n",
            "WARNING:tensorflow:From /usr/local/lib/python3.7/dist-packages/object_detection/builders/dataset_builder.py:237: DatasetV1.map_with_legacy_function (from tensorflow.python.data.ops.dataset_ops) is deprecated and will be removed in a future version.\n",
            "Instructions for updating:\n",
            "Use `tf.data.Dataset.map()\n",
            "W1104 05:23:35.250236 140254089389952 deprecation.py:339] From /usr/local/lib/python3.7/dist-packages/object_detection/builders/dataset_builder.py:237: DatasetV1.map_with_legacy_function (from tensorflow.python.data.ops.dataset_ops) is deprecated and will be removed in a future version.\n",
            "Instructions for updating:\n",
            "Use `tf.data.Dataset.map()\n",
            "WARNING:tensorflow:From /usr/local/lib/python3.7/dist-packages/tensorflow/python/util/dispatch.py:201: sparse_to_dense (from tensorflow.python.ops.sparse_ops) is deprecated and will be removed in a future version.\n",
            "Instructions for updating:\n",
            "Create a `tf.sparse.SparseTensor` and use `tf.sparse.to_dense` instead.\n",
            "W1104 05:23:42.693831 140254089389952 deprecation.py:339] From /usr/local/lib/python3.7/dist-packages/tensorflow/python/util/dispatch.py:201: sparse_to_dense (from tensorflow.python.ops.sparse_ops) is deprecated and will be removed in a future version.\n",
            "Instructions for updating:\n",
            "Create a `tf.sparse.SparseTensor` and use `tf.sparse.to_dense` instead.\n",
            "WARNING:tensorflow:From /usr/local/lib/python3.7/dist-packages/tensorflow/python/util/dispatch.py:201: sample_distorted_bounding_box (from tensorflow.python.ops.image_ops_impl) is deprecated and will be removed in a future version.\n",
            "Instructions for updating:\n",
            "`seed2` arg is deprecated.Use sample_distorted_bounding_box_v2 instead.\n",
            "W1104 05:23:46.032633 140254089389952 deprecation.py:339] From /usr/local/lib/python3.7/dist-packages/tensorflow/python/util/dispatch.py:201: sample_distorted_bounding_box (from tensorflow.python.ops.image_ops_impl) is deprecated and will be removed in a future version.\n",
            "Instructions for updating:\n",
            "`seed2` arg is deprecated.Use sample_distorted_bounding_box_v2 instead.\n",
            "WARNING:tensorflow:From /usr/local/lib/python3.7/dist-packages/object_detection/inputs.py:282: to_float (from tensorflow.python.ops.math_ops) is deprecated and will be removed in a future version.\n",
            "Instructions for updating:\n",
            "Use `tf.cast` instead.\n",
            "W1104 05:23:49.322771 140254089389952 deprecation.py:339] From /usr/local/lib/python3.7/dist-packages/object_detection/inputs.py:282: to_float (from tensorflow.python.ops.math_ops) is deprecated and will be removed in a future version.\n",
            "Instructions for updating:\n",
            "Use `tf.cast` instead.\n",
            "2021-11-04 05:23:55.003274: I tensorflow/compiler/mlir/mlir_graph_optimization_pass.cc:116] None of the MLIR optimization passes are enabled (registered 2)\n",
            "2021-11-04 05:23:55.008584: I tensorflow/core/platform/profile_utils/cpu_utils.cc:112] CPU Frequency: 2299995000 Hz\n",
            "/usr/local/lib/python3.7/dist-packages/tensorflow/python/keras/backend.py:434: UserWarning: `tf.keras.backend.set_learning_phase` is deprecated and will be removed after 2020-10-11. To update it, simply pass a True/False value to the `training` argument of the `__call__` method of your layer or model.\n",
            "  warnings.warn('`tf.keras.backend.set_learning_phase` is deprecated and '\n",
            "WARNING:tensorflow:From /usr/local/lib/python3.7/dist-packages/tensorflow/python/util/deprecation.py:605: calling map_fn_v2 (from tensorflow.python.ops.map_fn) with dtype is deprecated and will be removed in a future version.\n",
            "Instructions for updating:\n",
            "Use fn_output_signature instead\n",
            "W1104 05:39:30.824728 140249170130688 deprecation.py:537] From /usr/local/lib/python3.7/dist-packages/tensorflow/python/util/deprecation.py:605: calling map_fn_v2 (from tensorflow.python.ops.map_fn) with dtype is deprecated and will be removed in a future version.\n",
            "Instructions for updating:\n",
            "Use fn_output_signature instead\n",
            "2021-11-04 05:40:14.558802: I tensorflow/stream_executor/platform/default/dso_loader.cc:49] Successfully opened dynamic library libcudnn.so.8\n",
            "2021-11-04 05:40:30.116692: I tensorflow/stream_executor/platform/default/dso_loader.cc:49] Successfully opened dynamic library libcublas.so.11\n",
            "2021-11-04 05:40:31.508406: I tensorflow/stream_executor/platform/default/dso_loader.cc:49] Successfully opened dynamic library libcublasLt.so.11\n",
            "INFO:tensorflow:Step 30100 per-step time 0.645s loss=0.215\n",
            "I1104 05:41:37.796952 140254089389952 model_lib_v2.py:659] Step 30100 per-step time 0.645s loss=0.215\n",
            "INFO:tensorflow:Step 30200 per-step time 0.637s loss=0.355\n",
            "I1104 05:42:42.260104 140254089389952 model_lib_v2.py:659] Step 30200 per-step time 0.637s loss=0.355\n",
            "INFO:tensorflow:Step 30300 per-step time 0.655s loss=0.281\n",
            "I1104 05:43:46.677596 140254089389952 model_lib_v2.py:659] Step 30300 per-step time 0.655s loss=0.281\n",
            "INFO:tensorflow:Step 30400 per-step time 0.639s loss=0.514\n",
            "I1104 05:44:51.149054 140254089389952 model_lib_v2.py:659] Step 30400 per-step time 0.639s loss=0.514\n",
            "INFO:tensorflow:Step 30500 per-step time 0.644s loss=0.322\n",
            "I1104 05:45:55.480121 140254089389952 model_lib_v2.py:659] Step 30500 per-step time 0.644s loss=0.322\n",
            "INFO:tensorflow:Step 30600 per-step time 0.645s loss=0.299\n",
            "I1104 05:46:59.910984 140254089389952 model_lib_v2.py:659] Step 30600 per-step time 0.645s loss=0.299\n",
            "INFO:tensorflow:Step 30700 per-step time 0.630s loss=0.441\n",
            "I1104 05:48:04.431966 140254089389952 model_lib_v2.py:659] Step 30700 per-step time 0.630s loss=0.441\n",
            "INFO:tensorflow:Step 30800 per-step time 0.637s loss=0.316\n",
            "I1104 05:49:08.840938 140254089389952 model_lib_v2.py:659] Step 30800 per-step time 0.637s loss=0.316\n",
            "INFO:tensorflow:Step 30900 per-step time 0.641s loss=0.383\n",
            "I1104 05:50:13.133900 140254089389952 model_lib_v2.py:659] Step 30900 per-step time 0.641s loss=0.383\n",
            "INFO:tensorflow:Step 31000 per-step time 0.649s loss=0.337\n",
            "I1104 05:51:17.505079 140254089389952 model_lib_v2.py:659] Step 31000 per-step time 0.649s loss=0.337\n",
            "INFO:tensorflow:Reduce to /job:localhost/replica:0/task:0/device:CPU:0 then broadcast to ('/job:localhost/replica:0/task:0/device:CPU:0',).\n",
            "I1104 05:51:17.756886 140254089389952 cross_device_ops.py:565] Reduce to /job:localhost/replica:0/task:0/device:CPU:0 then broadcast to ('/job:localhost/replica:0/task:0/device:CPU:0',).\n",
            "INFO:tensorflow:Reduce to /job:localhost/replica:0/task:0/device:CPU:0 then broadcast to ('/job:localhost/replica:0/task:0/device:CPU:0',).\n",
            "I1104 05:51:17.757846 140254089389952 cross_device_ops.py:565] Reduce to /job:localhost/replica:0/task:0/device:CPU:0 then broadcast to ('/job:localhost/replica:0/task:0/device:CPU:0',).\n",
            "INFO:tensorflow:Reduce to /job:localhost/replica:0/task:0/device:CPU:0 then broadcast to ('/job:localhost/replica:0/task:0/device:CPU:0',).\n",
            "I1104 05:51:17.760327 140254089389952 cross_device_ops.py:565] Reduce to /job:localhost/replica:0/task:0/device:CPU:0 then broadcast to ('/job:localhost/replica:0/task:0/device:CPU:0',).\n",
            "INFO:tensorflow:Reduce to /job:localhost/replica:0/task:0/device:CPU:0 then broadcast to ('/job:localhost/replica:0/task:0/device:CPU:0',).\n",
            "I1104 05:51:17.761149 140254089389952 cross_device_ops.py:565] Reduce to /job:localhost/replica:0/task:0/device:CPU:0 then broadcast to ('/job:localhost/replica:0/task:0/device:CPU:0',).\n",
            "INFO:tensorflow:Reduce to /job:localhost/replica:0/task:0/device:CPU:0 then broadcast to ('/job:localhost/replica:0/task:0/device:CPU:0',).\n",
            "I1104 05:51:17.763704 140254089389952 cross_device_ops.py:565] Reduce to /job:localhost/replica:0/task:0/device:CPU:0 then broadcast to ('/job:localhost/replica:0/task:0/device:CPU:0',).\n",
            "INFO:tensorflow:Reduce to /job:localhost/replica:0/task:0/device:CPU:0 then broadcast to ('/job:localhost/replica:0/task:0/device:CPU:0',).\n",
            "I1104 05:51:17.764518 140254089389952 cross_device_ops.py:565] Reduce to /job:localhost/replica:0/task:0/device:CPU:0 then broadcast to ('/job:localhost/replica:0/task:0/device:CPU:0',).\n",
            "INFO:tensorflow:Reduce to /job:localhost/replica:0/task:0/device:CPU:0 then broadcast to ('/job:localhost/replica:0/task:0/device:CPU:0',).\n",
            "I1104 05:51:17.766973 140254089389952 cross_device_ops.py:565] Reduce to /job:localhost/replica:0/task:0/device:CPU:0 then broadcast to ('/job:localhost/replica:0/task:0/device:CPU:0',).\n",
            "INFO:tensorflow:Reduce to /job:localhost/replica:0/task:0/device:CPU:0 then broadcast to ('/job:localhost/replica:0/task:0/device:CPU:0',).\n",
            "I1104 05:51:17.767885 140254089389952 cross_device_ops.py:565] Reduce to /job:localhost/replica:0/task:0/device:CPU:0 then broadcast to ('/job:localhost/replica:0/task:0/device:CPU:0',).\n",
            "INFO:tensorflow:Reduce to /job:localhost/replica:0/task:0/device:CPU:0 then broadcast to ('/job:localhost/replica:0/task:0/device:CPU:0',).\n",
            "I1104 05:51:17.769953 140254089389952 cross_device_ops.py:565] Reduce to /job:localhost/replica:0/task:0/device:CPU:0 then broadcast to ('/job:localhost/replica:0/task:0/device:CPU:0',).\n",
            "INFO:tensorflow:Reduce to /job:localhost/replica:0/task:0/device:CPU:0 then broadcast to ('/job:localhost/replica:0/task:0/device:CPU:0',).\n",
            "I1104 05:51:17.770828 140254089389952 cross_device_ops.py:565] Reduce to /job:localhost/replica:0/task:0/device:CPU:0 then broadcast to ('/job:localhost/replica:0/task:0/device:CPU:0',).\n",
            "INFO:tensorflow:Step 31100 per-step time 0.641s loss=0.670\n",
            "I1104 05:52:40.008451 140254089389952 model_lib_v2.py:659] Step 31100 per-step time 0.641s loss=0.670\n",
            "INFO:tensorflow:Step 31200 per-step time 0.653s loss=0.644\n",
            "I1104 05:53:44.230025 140254089389952 model_lib_v2.py:659] Step 31200 per-step time 0.653s loss=0.644\n",
            "INFO:tensorflow:Step 31300 per-step time 0.636s loss=0.288\n",
            "I1104 05:54:48.445519 140254089389952 model_lib_v2.py:659] Step 31300 per-step time 0.636s loss=0.288\n",
            "INFO:tensorflow:Step 31400 per-step time 0.629s loss=0.406\n",
            "I1104 05:55:52.805881 140254089389952 model_lib_v2.py:659] Step 31400 per-step time 0.629s loss=0.406\n",
            "INFO:tensorflow:Step 31500 per-step time 0.627s loss=0.459\n",
            "I1104 05:56:57.189420 140254089389952 model_lib_v2.py:659] Step 31500 per-step time 0.627s loss=0.459\n",
            "INFO:tensorflow:Step 31600 per-step time 0.644s loss=0.470\n",
            "I1104 05:58:01.367599 140254089389952 model_lib_v2.py:659] Step 31600 per-step time 0.644s loss=0.470\n",
            "INFO:tensorflow:Step 31700 per-step time 0.642s loss=0.292\n",
            "I1104 05:59:05.751058 140254089389952 model_lib_v2.py:659] Step 31700 per-step time 0.642s loss=0.292\n",
            "INFO:tensorflow:Step 31800 per-step time 0.655s loss=0.520\n",
            "I1104 06:00:10.085615 140254089389952 model_lib_v2.py:659] Step 31800 per-step time 0.655s loss=0.520\n",
            "INFO:tensorflow:Step 31900 per-step time 0.652s loss=0.234\n",
            "I1104 06:01:14.569014 140254089389952 model_lib_v2.py:659] Step 31900 per-step time 0.652s loss=0.234\n",
            "INFO:tensorflow:Step 32000 per-step time 0.651s loss=0.475\n",
            "I1104 06:02:18.934518 140254089389952 model_lib_v2.py:659] Step 32000 per-step time 0.651s loss=0.475\n",
            "INFO:tensorflow:Step 32100 per-step time 0.638s loss=0.309\n",
            "I1104 06:03:40.084372 140254089389952 model_lib_v2.py:659] Step 32100 per-step time 0.638s loss=0.309\n",
            "INFO:tensorflow:Step 32200 per-step time 0.637s loss=0.281\n",
            "I1104 06:04:44.434419 140254089389952 model_lib_v2.py:659] Step 32200 per-step time 0.637s loss=0.281\n",
            "INFO:tensorflow:Step 32300 per-step time 0.633s loss=0.298\n",
            "I1104 06:05:48.731253 140254089389952 model_lib_v2.py:659] Step 32300 per-step time 0.633s loss=0.298\n",
            "INFO:tensorflow:Step 32400 per-step time 0.647s loss=0.334\n",
            "I1104 06:06:53.231932 140254089389952 model_lib_v2.py:659] Step 32400 per-step time 0.647s loss=0.334\n",
            "INFO:tensorflow:Step 32500 per-step time 0.657s loss=0.295\n",
            "I1104 06:07:57.657384 140254089389952 model_lib_v2.py:659] Step 32500 per-step time 0.657s loss=0.295\n",
            "INFO:tensorflow:Step 32600 per-step time 0.634s loss=0.225\n",
            "I1104 06:09:01.828995 140254089389952 model_lib_v2.py:659] Step 32600 per-step time 0.634s loss=0.225\n",
            "INFO:tensorflow:Step 32700 per-step time 0.634s loss=0.244\n",
            "I1104 06:10:06.155958 140254089389952 model_lib_v2.py:659] Step 32700 per-step time 0.634s loss=0.244\n",
            "INFO:tensorflow:Step 32800 per-step time 0.649s loss=0.305\n",
            "I1104 06:11:10.498937 140254089389952 model_lib_v2.py:659] Step 32800 per-step time 0.649s loss=0.305\n",
            "INFO:tensorflow:Step 32900 per-step time 0.641s loss=0.426\n",
            "I1104 06:12:14.702461 140254089389952 model_lib_v2.py:659] Step 32900 per-step time 0.641s loss=0.426\n",
            "INFO:tensorflow:Step 33000 per-step time 0.630s loss=0.246\n",
            "I1104 06:13:18.971807 140254089389952 model_lib_v2.py:659] Step 33000 per-step time 0.630s loss=0.246\n",
            "INFO:tensorflow:Step 33100 per-step time 0.644s loss=0.262\n",
            "I1104 06:14:40.376892 140254089389952 model_lib_v2.py:659] Step 33100 per-step time 0.644s loss=0.262\n",
            "INFO:tensorflow:Step 33200 per-step time 0.644s loss=0.410\n",
            "I1104 06:15:44.568771 140254089389952 model_lib_v2.py:659] Step 33200 per-step time 0.644s loss=0.410\n",
            "INFO:tensorflow:Step 33300 per-step time 0.638s loss=0.190\n",
            "I1104 06:16:48.882808 140254089389952 model_lib_v2.py:659] Step 33300 per-step time 0.638s loss=0.190\n",
            "INFO:tensorflow:Step 33400 per-step time 0.647s loss=0.677\n",
            "I1104 06:17:53.150120 140254089389952 model_lib_v2.py:659] Step 33400 per-step time 0.647s loss=0.677\n",
            "INFO:tensorflow:Step 33500 per-step time 0.643s loss=0.314\n",
            "I1104 06:18:57.425679 140254089389952 model_lib_v2.py:659] Step 33500 per-step time 0.643s loss=0.314\n",
            "INFO:tensorflow:Step 33600 per-step time 0.641s loss=0.277\n",
            "I1104 06:20:01.650025 140254089389952 model_lib_v2.py:659] Step 33600 per-step time 0.641s loss=0.277\n",
            "INFO:tensorflow:Step 33700 per-step time 0.648s loss=0.326\n",
            "I1104 06:21:05.857256 140254089389952 model_lib_v2.py:659] Step 33700 per-step time 0.648s loss=0.326\n",
            "INFO:tensorflow:Step 33800 per-step time 0.638s loss=0.305\n",
            "I1104 06:22:10.008252 140254089389952 model_lib_v2.py:659] Step 33800 per-step time 0.638s loss=0.305\n",
            "INFO:tensorflow:Step 33900 per-step time 0.650s loss=0.311\n",
            "I1104 06:23:14.282243 140254089389952 model_lib_v2.py:659] Step 33900 per-step time 0.650s loss=0.311\n",
            "INFO:tensorflow:Step 34000 per-step time 0.641s loss=0.264\n",
            "I1104 06:24:18.606299 140254089389952 model_lib_v2.py:659] Step 34000 per-step time 0.641s loss=0.264\n",
            "INFO:tensorflow:Step 34100 per-step time 0.638s loss=0.310\n",
            "I1104 06:25:38.115482 140254089389952 model_lib_v2.py:659] Step 34100 per-step time 0.638s loss=0.310\n",
            "INFO:tensorflow:Step 34200 per-step time 0.649s loss=0.471\n",
            "I1104 06:26:42.389433 140254089389952 model_lib_v2.py:659] Step 34200 per-step time 0.649s loss=0.471\n",
            "INFO:tensorflow:Step 34300 per-step time 0.635s loss=0.441\n",
            "I1104 06:27:46.680657 140254089389952 model_lib_v2.py:659] Step 34300 per-step time 0.635s loss=0.441\n",
            "INFO:tensorflow:Step 34400 per-step time 0.648s loss=0.348\n",
            "I1104 06:28:50.720162 140254089389952 model_lib_v2.py:659] Step 34400 per-step time 0.648s loss=0.348\n",
            "INFO:tensorflow:Step 34500 per-step time 0.659s loss=0.384\n",
            "I1104 06:29:54.778710 140254089389952 model_lib_v2.py:659] Step 34500 per-step time 0.659s loss=0.384\n",
            "INFO:tensorflow:Step 34600 per-step time 0.642s loss=0.320\n",
            "I1104 06:30:59.198616 140254089389952 model_lib_v2.py:659] Step 34600 per-step time 0.642s loss=0.320\n",
            "INFO:tensorflow:Step 34700 per-step time 0.630s loss=0.953\n",
            "I1104 06:32:03.155134 140254089389952 model_lib_v2.py:659] Step 34700 per-step time 0.630s loss=0.953\n",
            "INFO:tensorflow:Step 34800 per-step time 0.636s loss=0.251\n",
            "I1104 06:33:07.219421 140254089389952 model_lib_v2.py:659] Step 34800 per-step time 0.636s loss=0.251\n",
            "INFO:tensorflow:Step 34900 per-step time 0.643s loss=0.177\n",
            "I1104 06:34:11.366173 140254089389952 model_lib_v2.py:659] Step 34900 per-step time 0.643s loss=0.177\n",
            "INFO:tensorflow:Step 35000 per-step time 0.648s loss=0.602\n",
            "I1104 06:35:15.599623 140254089389952 model_lib_v2.py:659] Step 35000 per-step time 0.648s loss=0.602\n",
            "INFO:tensorflow:Step 35100 per-step time 0.642s loss=0.340\n",
            "I1104 06:36:37.954392 140254089389952 model_lib_v2.py:659] Step 35100 per-step time 0.642s loss=0.340\n",
            "INFO:tensorflow:Step 35200 per-step time 0.644s loss=0.277\n",
            "I1104 06:37:42.365349 140254089389952 model_lib_v2.py:659] Step 35200 per-step time 0.644s loss=0.277\n",
            "INFO:tensorflow:Step 35300 per-step time 0.631s loss=0.239\n",
            "I1104 06:38:46.597258 140254089389952 model_lib_v2.py:659] Step 35300 per-step time 0.631s loss=0.239\n",
            "INFO:tensorflow:Step 35400 per-step time 0.649s loss=0.173\n",
            "I1104 06:39:50.705840 140254089389952 model_lib_v2.py:659] Step 35400 per-step time 0.649s loss=0.173\n",
            "INFO:tensorflow:Step 35500 per-step time 0.641s loss=0.233\n",
            "I1104 06:40:54.869554 140254089389952 model_lib_v2.py:659] Step 35500 per-step time 0.641s loss=0.233\n",
            "INFO:tensorflow:Step 35600 per-step time 0.652s loss=0.338\n",
            "I1104 06:41:58.952996 140254089389952 model_lib_v2.py:659] Step 35600 per-step time 0.652s loss=0.338\n",
            "INFO:tensorflow:Step 35700 per-step time 0.646s loss=0.446\n",
            "I1104 06:43:03.059201 140254089389952 model_lib_v2.py:659] Step 35700 per-step time 0.646s loss=0.446\n",
            "INFO:tensorflow:Step 35800 per-step time 0.644s loss=0.433\n",
            "I1104 06:44:07.347189 140254089389952 model_lib_v2.py:659] Step 35800 per-step time 0.644s loss=0.433\n",
            "INFO:tensorflow:Step 35900 per-step time 0.641s loss=0.426\n",
            "I1104 06:45:11.436999 140254089389952 model_lib_v2.py:659] Step 35900 per-step time 0.641s loss=0.426\n",
            "INFO:tensorflow:Step 36000 per-step time 0.642s loss=0.431\n",
            "I1104 06:46:15.667622 140254089389952 model_lib_v2.py:659] Step 36000 per-step time 0.642s loss=0.431\n",
            "INFO:tensorflow:Step 36100 per-step time 0.635s loss=0.312\n",
            "I1104 06:47:36.941288 140254089389952 model_lib_v2.py:659] Step 36100 per-step time 0.635s loss=0.312\n",
            "INFO:tensorflow:Step 36200 per-step time 0.651s loss=0.384\n",
            "I1104 06:48:41.523466 140254089389952 model_lib_v2.py:659] Step 36200 per-step time 0.651s loss=0.384\n",
            "INFO:tensorflow:Step 36300 per-step time 0.635s loss=0.247\n",
            "I1104 06:49:46.337929 140254089389952 model_lib_v2.py:659] Step 36300 per-step time 0.635s loss=0.247\n",
            "INFO:tensorflow:Step 36400 per-step time 0.640s loss=0.168\n",
            "I1104 06:50:51.055633 140254089389952 model_lib_v2.py:659] Step 36400 per-step time 0.640s loss=0.168\n",
            "INFO:tensorflow:Step 36500 per-step time 0.641s loss=0.316\n",
            "I1104 06:51:55.588619 140254089389952 model_lib_v2.py:659] Step 36500 per-step time 0.641s loss=0.316\n",
            "INFO:tensorflow:Step 36600 per-step time 0.645s loss=0.541\n",
            "I1104 06:53:00.131228 140254089389952 model_lib_v2.py:659] Step 36600 per-step time 0.645s loss=0.541\n",
            "INFO:tensorflow:Step 36700 per-step time 0.682s loss=0.147\n",
            "I1104 06:54:04.619706 140254089389952 model_lib_v2.py:659] Step 36700 per-step time 0.682s loss=0.147\n",
            "INFO:tensorflow:Step 36800 per-step time 0.670s loss=0.388\n",
            "I1104 06:55:09.338720 140254089389952 model_lib_v2.py:659] Step 36800 per-step time 0.670s loss=0.388\n",
            "INFO:tensorflow:Step 36900 per-step time 0.647s loss=0.278\n",
            "I1104 06:56:13.818295 140254089389952 model_lib_v2.py:659] Step 36900 per-step time 0.647s loss=0.278\n",
            "INFO:tensorflow:Step 37000 per-step time 0.653s loss=0.288\n",
            "I1104 06:57:18.215090 140254089389952 model_lib_v2.py:659] Step 37000 per-step time 0.653s loss=0.288\n",
            "INFO:tensorflow:Step 37100 per-step time 0.650s loss=0.263\n",
            "I1104 06:58:39.561796 140254089389952 model_lib_v2.py:659] Step 37100 per-step time 0.650s loss=0.263\n",
            "INFO:tensorflow:Step 37200 per-step time 0.648s loss=0.362\n",
            "I1104 06:59:44.010818 140254089389952 model_lib_v2.py:659] Step 37200 per-step time 0.648s loss=0.362\n",
            "INFO:tensorflow:Step 37300 per-step time 0.645s loss=0.151\n",
            "I1104 07:00:48.330029 140254089389952 model_lib_v2.py:659] Step 37300 per-step time 0.645s loss=0.151\n",
            "INFO:tensorflow:Step 37400 per-step time 0.650s loss=0.228\n",
            "I1104 07:01:52.672427 140254089389952 model_lib_v2.py:659] Step 37400 per-step time 0.650s loss=0.228\n",
            "INFO:tensorflow:Step 37500 per-step time 0.639s loss=0.260\n",
            "I1104 07:02:56.968480 140254089389952 model_lib_v2.py:659] Step 37500 per-step time 0.639s loss=0.260\n",
            "INFO:tensorflow:Step 37600 per-step time 0.644s loss=2.190\n",
            "I1104 07:04:01.275693 140254089389952 model_lib_v2.py:659] Step 37600 per-step time 0.644s loss=2.190\n",
            "INFO:tensorflow:Step 37700 per-step time 0.647s loss=0.340\n",
            "I1104 07:05:05.476972 140254089389952 model_lib_v2.py:659] Step 37700 per-step time 0.647s loss=0.340\n",
            "INFO:tensorflow:Step 37800 per-step time 0.659s loss=0.501\n",
            "I1104 07:06:09.710685 140254089389952 model_lib_v2.py:659] Step 37800 per-step time 0.659s loss=0.501\n",
            "INFO:tensorflow:Step 37900 per-step time 0.627s loss=0.214\n",
            "I1104 07:07:14.205302 140254089389952 model_lib_v2.py:659] Step 37900 per-step time 0.627s loss=0.214\n",
            "INFO:tensorflow:Step 38000 per-step time 0.644s loss=0.280\n",
            "I1104 07:08:18.393690 140254089389952 model_lib_v2.py:659] Step 38000 per-step time 0.644s loss=0.280\n",
            "INFO:tensorflow:Step 38100 per-step time 0.639s loss=0.140\n",
            "I1104 07:09:35.364058 140254089389952 model_lib_v2.py:659] Step 38100 per-step time 0.639s loss=0.140\n",
            "INFO:tensorflow:Step 38200 per-step time 0.636s loss=0.489\n",
            "I1104 07:10:39.656332 140254089389952 model_lib_v2.py:659] Step 38200 per-step time 0.636s loss=0.489\n",
            "INFO:tensorflow:Step 38300 per-step time 0.657s loss=0.330\n",
            "I1104 07:11:43.784246 140254089389952 model_lib_v2.py:659] Step 38300 per-step time 0.657s loss=0.330\n",
            "INFO:tensorflow:Step 38400 per-step time 0.649s loss=0.226\n",
            "I1104 07:12:48.274362 140254089389952 model_lib_v2.py:659] Step 38400 per-step time 0.649s loss=0.226\n",
            "Traceback (most recent call last):\n",
            "  File \"object_detection/model_main_tf2.py\", line 113, in <module>\n",
            "    tf.compat.v1.app.run()\n",
            "  File \"/usr/local/lib/python3.7/dist-packages/tensorflow/python/platform/app.py\", line 40, in run\n",
            "    _run(main=main, argv=argv, flags_parser=_parse_flags_tolerate_undef)\n",
            "  File \"/usr/local/lib/python3.7/dist-packages/absl/app.py\", line 303, in run\n",
            "    _run_main(main, args)\n",
            "  File \"/usr/local/lib/python3.7/dist-packages/absl/app.py\", line 251, in _run_main\n",
            "    sys.exit(main(argv))\n",
            "  File \"object_detection/model_main_tf2.py\", line 110, in main\n",
            "    record_summaries=FLAGS.record_summaries)\n",
            "  File \"/usr/local/lib/python3.7/dist-packages/object_detection/model_lib_v2.py\", line 644, in train_loop\n",
            "    loss = _dist_train_step(train_input_iter)\n",
            "  File \"/usr/local/lib/python3.7/dist-packages/tensorflow/python/eager/def_function.py\", line 828, in __call__\n",
            "    result = self._call(*args, **kwds)\n",
            "  File \"/usr/local/lib/python3.7/dist-packages/tensorflow/python/eager/def_function.py\", line 855, in _call\n",
            "    return self._stateless_fn(*args, **kwds)  # pylint: disable=not-callable\n",
            "  File \"/usr/local/lib/python3.7/dist-packages/tensorflow/python/eager/function.py\", line 2943, in __call__\n",
            "    filtered_flat_args, captured_inputs=graph_function.captured_inputs)  # pylint: disable=protected-access\n",
            "  File \"/usr/local/lib/python3.7/dist-packages/tensorflow/python/eager/function.py\", line 1919, in _call_flat\n",
            "    ctx, args, cancellation_manager=cancellation_manager))\n",
            "  File \"/usr/local/lib/python3.7/dist-packages/tensorflow/python/eager/function.py\", line 560, in call\n",
            "    ctx=ctx)\n",
            "  File \"/usr/local/lib/python3.7/dist-packages/tensorflow/python/eager/execute.py\", line 60, in quick_execute\n",
            "    inputs, attrs, num_outputs)\n",
            "KeyboardInterrupt\n"
          ]
        }
      ]
    },
    {
      "cell_type": "code",
      "metadata": {
        "id": "bSMbLMgKLNdc"
      },
      "source": [
        ""
      ],
      "execution_count": null,
      "outputs": []
    },
    {
      "cell_type": "code",
      "metadata": {
        "id": "QgYPMwy1LOvR"
      },
      "source": [
        ""
      ],
      "execution_count": null,
      "outputs": []
    }
  ]
}